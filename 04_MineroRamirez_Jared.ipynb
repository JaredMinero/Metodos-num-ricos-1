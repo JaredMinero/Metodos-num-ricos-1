{
 "cells": [
  {
   "cell_type": "code",
   "execution_count": 3,
   "metadata": {},
   "outputs": [],
   "source": [
    "using LinearAlgebra, Plots"
   ]
  },
  {
   "cell_type": "markdown",
   "metadata": {},
   "source": [
    "# 1.Ejercicio 8. Clase 11\n",
    "Prueba tu función `ecLineales(A,b)` con el siguiente sistema\n",
    "\n",
    "$$\n",
    "\\begin{align}\n",
    "    x+y+z &= 1 \\\\\n",
    "    3x-2y+w &= -4 \\\\\n",
    "    y - w &= 2 \\\\\n",
    "    x-2y+4z-5w &= -6\n",
    "\\end{align}\n",
    "$$\n",
    "\n",
    "Cuya solución está dada por $x= -0.0555$, $y=1.8333$, $z=-0.7777$ y $w=-0.1666$\n",
    "\n",
    "**R** Para este ejercicio se realizan los de la clase 11"
   ]
  },
  {
   "cell_type": "markdown",
   "metadata": {},
   "source": [
    "(i) Supón que $a_{1,1} \\neq 0$. ¿Qué operación elemental podrías aplicarle al renglón $n$ para hacer que el elemento $a_{n,1}$ se vuelva 0?\n",
    "\n",
    "Sugerencia: La operación es convertir al renglón $n$ en una combinación lineal del renglón $1$ y el renglón $n$.\n",
    "\n",
    "**R:** De las operaciones elementales: sumar un multiplo de un renglon a otro. En este caso seria multiplicar el renglón 1 ($R_{1}$) un número c tal que cumpla: $ (a_{1,1})(c)=-a_{n,1} $. La condición de $a_{1,1}$ es indispansable, ya que para encontrar $c$ debemos hacer: $ c=\\frac{-a_{n,1}}{a_{1,1}} $. "
   ]
  },
  {
   "cell_type": "markdown",
   "metadata": {},
   "source": [
    "(ii) ¿Puedes aplicar un procedimiento similar al del inciso anterior pero ahora para hacer $a_{n-1,1}=0$? ¿y para cualquier otro $a_{k,1}=0$ con $k \\neq 1$?\n",
    "**R:** Sí, encontrándonos aun en la columa 1, para cada $R_{n}$ se hace el mismo procedimiento."
   ]
  },
  {
   "cell_type": "markdown",
   "metadata": {},
   "source": [
    "(iii) Vamos ahora a la segunda columna. Supón que ya realizaste todas las operaciones elementales necesarias para que $a_{k,1} =0$ para $k \\neq 1$. Nuevamente suponiendo que $a_{2,2}\\neq 0$, ¿cómo puedes hacer algo parecido a las operaciones elementales de los incisos anteriores para volver $a_{k,2} =0$ para $k \\neq 2$\n",
    "\n",
    "**R:** Sí, supongamos que hemos logrado hacer los $0$ para todo $a_{i+1,1}$ con $i=1,...,n$, movamonos a la culmuna 2 donde $a_{2,2}\\neq 0$,; en este caso, el renglon 1 no nos será util, ya que modificará nuestro trabajo hecho anteriormente, sin en cambio en el renglón 2 tendrémos el siguiente arreglo: $R_{2} : \\begin{pmatrix}\n",
    "0 & a_{2,2} & \\cdots & a_{2,n} \\\\\n",
    " \\end{pmatrix} $ al tener un 0 en $a_{1,2}$ nos permite realizar el mismo procedimiento de (i) sin modificar el trabajo realizado en la culmna 1. \n",
    "La condicion $a_{i,i}\\neq 0$ es indispensable para este procedimiento."
   ]
  },
  {
   "cell_type": "markdown",
   "metadata": {},
   "source": [
    "(iv) Generaliza todo lo visto anteriormente para encontrar las operaciones elementales necesarias (y el orden de ellas) para convertir a la matriz aumentada $\\mathbf{C}$ en la matriz escalonada $\\mathbf{C}^*$.\n",
    "\n",
    "**R:** Tenemos la matriz aumentada\n",
    "$$\n",
    "\\mathbf{C} = \n",
    "\\begin{pmatrix}\n",
    "  a_{1,1} & a_{1,2} & \\cdots & a_{1,n} & b_1 \\\\\n",
    "  a_{2,1} & a_{2,2} & \\cdots & a_{2,n} & b_2 \\\\\n",
    "  \\vdots  &   & \\ddots &   & \\vdots \\\\\n",
    "  a_{n,1} & a_{n,2} & \\cdots & a_{n,n} & b_n \n",
    " \\end{pmatrix} \n",
    " $$\n",
    "No conocemos el valor de n, pero sabemos que $C$ es una matriz aumentada, entonces tendremos $nxn+1$ y que b debe tener n elementos, usaremos esto.\n",
    "Recordamos que en $a_{i,j}$ i representa los renglones y j las columnas. El orden en el que vamos a ir en las columnas será $j=1,...,n$.\n",
    "\n",
    "Comenzemos en la columna 1: A $R_{1}$ lo multiplicaremos por $\\frac{-a_{n,1}}{a_{1,1}}$ y lo sumaremos al renglon n. obteniendo así: \n",
    "$$\n",
    "\\mathbf{C}^* = \n",
    "\\begin{pmatrix}\n",
    "  a^*_{1,1} & a^*_{1,2} & \\cdots & a^*_{1,n} & b^*_1 \\\\\n",
    "  a_{2,1} & a_{2,2} & \\cdots & a_{2,n} & b_2 \\\\\n",
    "  \\vdots  &   & \\ddots &   & \\vdots \\\\\n",
    "  0 & a^*_{n,2} & \\cdots & a^*_{n,n} & b^*_n \n",
    " \\end{pmatrix} \n",
    " $$\n",
    "vamos ahora por un $0$ en $a_{n-1,1}$: A $R_{1}$ lo multiplicaremos por $\\frac{-a_{n-1,1}}{a_{1,1}}$ y lo sumaremos al renglon $n-1$.\n",
    "\n",
    "De forma general para hacer 0 en una columna: \n",
    "en $a_{i,j}$ fijamos una $j$, dejamos correr los renglones desde $i+1$ hasta $n$ y hacemos: $R_{i}=R_{i}-\\frac{a_{i,j}}{a_{i,i}}(R_{j})$\n",
    "\n",
    "Ahora, para que se haga este procedimiento en cada columna solo habrá que dejar correr $j=1,...,n$ y obtendremos\n",
    "$$\n",
    "\\mathbf{C}^* = \n",
    "\\begin{pmatrix}\n",
    "  a^*_{1,1} & a^*_{1,2} & \\cdots & a^*_{1,n} & b^*_1 \\\\\n",
    "  0 & a^*_{2,2} & \\cdots & a^*_{2,n} & b^*_2 \\\\\n",
    "  \\vdots  &   & \\ddots &   & \\vdots \\\\\n",
    "  0 & 0 & \\cdots & a^*_{n,n} & b^*_n \n",
    " \\end{pmatrix} \n",
    " $$\n",
    " "
   ]
  },
  {
   "cell_type": "markdown",
   "metadata": {},
   "source": [
    "hay que hacer toda la idea anterior en código, ¿Por qué? recordemos lo siguiente:\n",
    "Cuando tenemos una matriz triangular superior, el sistema queda de la siguiente forma: \n",
    "\n",
    "$$\n",
    "\\begin{pmatrix}\n",
    "  a_{1,1} & a_{1,2} & \\cdots & a_{1,n} \\\\\n",
    "  0 & a_{2,2} & \\cdots & a_{2,n} \\\\\n",
    "  \\vdots  & \\vdots  & \\ddots & \\vdots  \\\\\n",
    "   0 & \\ldots  & a_{n-1,n-1} & a_{n-1,n} \\\\\n",
    " 0 & \\ldots  & 0 & a_{n,n} \\\\\n",
    " \\end{pmatrix}\n",
    " \\begin{pmatrix}\n",
    " x_1 \\\\\n",
    " x_2 \\\\\n",
    " \\vdots \\\\\n",
    " x_{n-1} \\\\\n",
    " x_n\n",
    " \\end{pmatrix} \n",
    " =\n",
    " \\begin{pmatrix}\n",
    " b_1 \\\\\n",
    " b_2 \\\\\n",
    " \\vdots \\\\\n",
    " b_{n-1} \\\\\n",
    " b_n\n",
    " \\end{pmatrix}\n",
    "$$ \n",
    "\n",
    " \n",
    "entonces, es muy sencillo obtener la solucion del sistema, ya que \n",
    "\n",
    "$$ x_{1} = \\frac{1}{a_{11}}(b_1-( a_{12} x_{2} + \\ldots + a_{1 n-1} x_{n-1}+ a_{1n} x_{n}))$$\n",
    " $$x_2 = \\frac{1}{a_{22}} \\left(b_2 - ( a_{23} x_3 + \\ldots + a_{2 n-1} x_{n-1} + a_{2n} x_n) \\right) $$\n",
    " $$\\vdots$$\n",
    " $$x_{n-1}= \\frac{1}{a_{n-1,n-1}}(b_{n-1}-a_{n-1,n}x_{n})$$\n",
    " $$x_n = \\frac{1}{a_{nn}}(b_n) $$\n",
    "\n",
    "como podemos ver, encontrando $x_{n}$ podemos encontrar $x_{n-1}$ y asi sucesivamente."
   ]
  },
  {
   "cell_type": "markdown",
   "metadata": {},
   "source": [
    "Ahora, hay que hacer una función `solTriSuperior(A,b)` que tome como argumento un arreglo 2D `A`, que representa a una matriz **triangular superior, sin ceros en la diagonal**, de $n\\times n$ , un vector solución `b` de longitud $n$ y que regresa un arreglo `xs` con la solución del sistema $\\mathbf{Ax} = \\mathbf{b}$ calculada usando la fórmula del inciso (iii) del ejercicio anterior."
   ]
  },
  {
   "cell_type": "markdown",
   "metadata": {},
   "source": [
    "En clase vimos que podemos hacer producto entre vectores ¿Esto donde lo hacemos? Al tomar un renglon y multiplicarlo por el xs, que contiene todos los valores de x, que es lo que encontramos entre los parentesis de las soluciones, al ser una matriz diagonal superior va sumando ceros la funcion, usaré el nombre Rs para el arreglo que representará los renglones de la matriz, xs debe tener el mismo numero de valores que de renglones de A, asi que tomamos su longitud como n. \n",
    "Notemos que el producto se va efectuando de abajo hacia arriba. "
   ]
  },
  {
   "cell_type": "code",
   "execution_count": 29,
   "metadata": {},
   "outputs": [
    {
     "data": {
      "text/plain": [
       "productoEscalar (generic function with 1 method)"
      ]
     },
     "execution_count": 29,
     "metadata": {},
     "output_type": "execute_result"
    }
   ],
   "source": [
    "function productoEscalar(Rs,xs)\n",
    "    n=length(xs)\n",
    "    sum=0\n",
    "    for i in 1:n\n",
    "        sum=sum+xs[i]*Rs[i]\n",
    "    end\n",
    "    return sum\n",
    "end"
   ]
  },
  {
   "cell_type": "code",
   "execution_count": 30,
   "metadata": {},
   "outputs": [
    {
     "data": {
      "text/plain": [
       "solTriSuperior (generic function with 1 method)"
      ]
     },
     "execution_count": 30,
     "metadata": {},
     "output_type": "execute_result"
    }
   ],
   "source": [
    "function solTriSuperior(A,b)\n",
    "    n=length(b)\n",
    "    xs=[b[n]/A[n,n]]\n",
    "    for i in 1:n-1\n",
    "        sum=productoEscalar(A[n-i,n-i+1:n],xs)\n",
    "        x=(1/A[n-i,n-i])*(b[n-i]-sum)\n",
    "        pushfirst!(xs,x) #este push me va a ir acomodando \n",
    "                         #las x antes del x_{n} que conocemos\n",
    "                         #así que mi arreglo estára ya en orden\n",
    "    end\n",
    "    return xs\n",
    "end"
   ]
  },
  {
   "cell_type": "markdown",
   "metadata": {},
   "source": [
    "voy a ir haciendo las cosas por pasos\n",
    "Primero hagamos en código la operación  $R_{i}=R_{i}-\\frac{a_{i,j}}{a_{i,i}}(R_{j})$"
   ]
  },
  {
   "cell_type": "code",
   "execution_count": 31,
   "metadata": {},
   "outputs": [
    {
     "data": {
      "text/plain": [
       "operRenglon (generic function with 1 method)"
      ]
     },
     "execution_count": 31,
     "metadata": {},
     "output_type": "execute_result"
    }
   ],
   "source": [
    "function operRenglon(A,i)\n",
    "    n=length(A[:,1])\n",
    "    for j in i+1:n #ya que queremos 0 en todos menos en \n",
    "                   #el que vamos a usar\n",
    "        A[j,:]=A[j,:]-(A[j,i]/A[i,i])*A[i,:]\n",
    "    end\n",
    "    return A\n",
    "end"
   ]
  },
  {
   "cell_type": "markdown",
   "metadata": {},
   "source": [
    "Ahora, vamos a correr en orden, de la columna 1 a la n (recordemos que el orden es importante para no ir borrando el trabajo hecho en alguna otra columa. \n",
    "En clase denotamos la matriz aumentada con $\\mathbf{C}$"
   ]
  },
  {
   "cell_type": "code",
   "execution_count": 32,
   "metadata": {},
   "outputs": [
    {
     "data": {
      "text/plain": [
       "elimGaussBasica (generic function with 1 method)"
      ]
     },
     "execution_count": 32,
     "metadata": {},
     "output_type": "execute_result"
    }
   ],
   "source": [
    "function elimGaussBasica(A,b)\n",
    "    C=hcat(A,b)\n",
    "    n=length(A[:,1])\n",
    "    for i in 1:n\n",
    "        operRenglon(C,i)\n",
    "    end \n",
    "    return C\n",
    "end "
   ]
  },
  {
   "cell_type": "markdown",
   "metadata": {},
   "source": [
    "Qué tal si hay 0 en la diagonal? Solo habrá que buscar la forma de quitar ese 0, y esto se hace intercambiando renglones, este procedmiento se debe hacer antes de iniciar todo, para no arruinar el trabajo logrado.Una forma muy rápida de saber si hay ceros en la diagonal es multiplicando todos estos, si hay algun cero tendremos un cero como resultado del producto, si no es el caso podemos hacer el procedimiento normal. Hagamos una función que nos ayude con este producto:"
   ]
  },
  {
   "cell_type": "code",
   "execution_count": 33,
   "metadata": {},
   "outputs": [
    {
     "data": {
      "text/plain": [
       "productoDiag (generic function with 1 method)"
      ]
     },
     "execution_count": 33,
     "metadata": {},
     "output_type": "execute_result"
    }
   ],
   "source": [
    "function productoDiag(A) \n",
    "    n=length(A[:,1])\n",
    "    prod=1\n",
    "    for i in 1:n\n",
    "        prod=prod*A[i,i]\n",
    "    end \n",
    "    return prod\n",
    "end "
   ]
  },
  {
   "cell_type": "markdown",
   "metadata": {},
   "source": [
    "Si llegamos a tener prod=0, esta función nos ayudará a cambiar renglones:"
   ]
  },
  {
   "cell_type": "code",
   "execution_count": 34,
   "metadata": {},
   "outputs": [
    {
     "data": {
      "text/plain": [
       "cambioReng (generic function with 1 method)"
      ]
     },
     "execution_count": 34,
     "metadata": {},
     "output_type": "execute_result"
    }
   ],
   "source": [
    "function cambioReng(A,i)\n",
    "    rengloni=A[i,:]  \n",
    "    j=1\n",
    "    while A[j,i]==0\n",
    "        j=j+1\n",
    "    end \n",
    "    A[i,:]=A[j,:]\n",
    "    A[j,:]=rengloni\n",
    "    return A\n",
    "end"
   ]
  },
  {
   "cell_type": "code",
   "execution_count": 35,
   "metadata": {},
   "outputs": [
    {
     "data": {
      "text/plain": [
       "checarDiagonal (generic function with 1 method)"
      ]
     },
     "execution_count": 35,
     "metadata": {},
     "output_type": "execute_result"
    }
   ],
   "source": [
    "function checarDiagonal(A,b)\n",
    "    C=hcat(A,b)\n",
    "    n=length(A[:,1])\n",
    "    i=1\n",
    "    while productoDiag(C)==0\n",
    "            C=cambioReng(C,i)\n",
    "            if i<n\n",
    "                i=i+1\n",
    "            else\n",
    "                i=1\n",
    "            end\n",
    "    end\n",
    "    return C\n",
    "end"
   ]
  },
  {
   "cell_type": "markdown",
   "metadata": {},
   "source": [
    "Ahora se nos pide que creemos la funcion eliminacionGaussiana(A,b) suponiendo que la matriz A no tiene ceros en la diagonal, pero si observamos nuestro sistema de ecuaciones a resolver vemos que tenemos un cero en  𝑎3,3  por eso es que hicismos los ejercicios anteriores"
   ]
  },
  {
   "cell_type": "code",
   "execution_count": 36,
   "metadata": {},
   "outputs": [
    {
     "data": {
      "text/plain": [
       "eliminacionGaussiana (generic function with 1 method)"
      ]
     },
     "execution_count": 36,
     "metadata": {},
     "output_type": "execute_result"
    }
   ],
   "source": [
    "function eliminacionGaussiana(A,b)\n",
    "    n=length(A[:,1])\n",
    "    cd=checarDiagonal(A,b)\n",
    "    for i in 1:n\n",
    "        cd=operRenglon(cd,i)\n",
    "        checarDiagonal(cd[1:n,1:n],cd[:,n+1])\n",
    "    end\n",
    "    return cd\n",
    "end"
   ]
  },
  {
   "cell_type": "markdown",
   "metadata": {},
   "source": [
    "Ahora hay que implementar una función ecLineales(A,b) que use las funciones eliminaciónGaussiana(A,b) y solTriSuperior(A,b) para resolver el sistema de ecuaciones lineales."
   ]
  },
  {
   "cell_type": "code",
   "execution_count": 37,
   "metadata": {},
   "outputs": [
    {
     "data": {
      "text/plain": [
       "ecLineales (generic function with 1 method)"
      ]
     },
     "execution_count": 37,
     "metadata": {},
     "output_type": "execute_result"
    }
   ],
   "source": [
    "function ecLineales(A,b)\n",
    "    n=length(A[:,1])\n",
    "    C_asterisco=eliminacionGaussiana(A,b)\n",
    "    return solTriSuperior(C_asterisco[1:n,1:n],C_asterisco[:,n+1])\n",
    "end"
   ]
  },
  {
   "cell_type": "code",
   "execution_count": 38,
   "metadata": {},
   "outputs": [
    {
     "data": {
      "text/plain": [
       "4-element Array{Float64,1}:\n",
       " -0.05555555555555565\n",
       "  1.8333333333333333\n",
       " -0.7777777777777778\n",
       " -0.16666666666666666"
      ]
     },
     "execution_count": 38,
     "metadata": {},
     "output_type": "execute_result"
    }
   ],
   "source": [
    "ecLineales([[1.0 1.0 1.0 0.0];[3.0 -2.0 0.0 1.0];[0.0 1.0 0.0 -1.0];[1.0 -2.0 4.0 -5.0]],[1.0,-4.0,2.0,-6.0])"
   ]
  },
  {
   "cell_type": "markdown",
   "metadata": {},
   "source": [
    "# 2. Ejercicio 4. Clase 12\n",
    "Utiliza cualquiera de las dos funciones anteriores para resolver el siguiente sistema\n",
    "\n",
    "$$\n",
    "\\begin{align}\n",
    "4x - y + z &= 7 \\\\\n",
    "4x - 8y + z &= -21 \\\\\n",
    "-2x +y + 5z &= 15\n",
    "\\end{align}\n",
    "$$\n",
    "\n",
    "Con solución exacta $x=2$, $y=4$, $z=3$. ¿La sucesión generada si converge a la solución analítica? \n",
    "\n",
    "Grafica el error absoluto ($\\Vert \\mathbf{x}^{(t)} - \\mathbf{x}_{\\text{exacta}} \\Vert$) como función del paso $t$ de la iteración y di algo sobre su tendencia."
   ]
  },
  {
   "cell_type": "markdown",
   "metadata": {},
   "source": [
    "**R** Partiendo de $\\mathbf{Ax} = \\mathbf{b}$ (1), se puede descomponer a $\\mathbf{A}$ de la forma $\\mathbf{A}=\\mathbf{D}+\\mathbf{R}$, donde $\\mathbf{D}$  sea una matriz diagonal y $\\mathbf{R}$ una matriz con ceros en la diagonal, quedando de la siguiente forma\n",
    "\n",
    "$$\n",
    "\\mathbf{A} = \n",
    "\\begin{pmatrix}\n",
    "  a_{1,1} & a_{1,2} & \\cdots & a_{1,n} \\\\\n",
    "  a_{2,1} & a_{2,2} & \\cdots & a_{2,n} \\\\\n",
    "  \\vdots  & \\vdots  & \\ddots & \\vdots  \\\\\n",
    "  a_{n,1} & a_{n,2} & \\cdots & a_{n,n} \n",
    " \\end{pmatrix}  = \\begin{pmatrix}\n",
    "  a_{1,1} & 0 & \\cdots & 0 \\\\\n",
    "  0 & a_{2,2} & \\cdots & 0 \\\\\n",
    "  \\vdots  & \\vdots  & \\ddots & \\vdots  \\\\\n",
    "  0 & 0 & \\cdots & a_{n,n} \n",
    " \\end{pmatrix} + \\begin{pmatrix}\n",
    " 0 & a_{1,2} & \\cdots & a_{1,n} \\\\\n",
    "  a_{2,1} & 0 & \\cdots & a_{2,n} \\\\\n",
    "  \\vdots  & \\vdots  & \\ddots & \\vdots  \\\\\n",
    "  a_{n,1} & a_{n,2} & \\cdots & 0\n",
    " \\end{pmatrix}$$\n",
    " \n",
    " Ahora podemos reescribir (1) $\\mathbf{(D+R)x} = \\mathbf{b} \\rightarrow \\mathbf{Dx}+\\mathbf{Rx} = \\mathbf{b} $\n",
    " Como $\\mathbf{D}$ es una matriz diagonal la inversa se obtiene de una manera muy sencilla; solo se toma el inverso de cada $a_{i,i}$, con esto podemos hacer $\\mathbf{x}=\\mathbf{D}^{-1}(\\mathbf{b}-\\mathbf{Rx})$\n",
    " \n",
    " Ahora, en la clase vimos la sucesión recursiva de vectores para x, entonces  $\\mathbf{x}^{k+1}=\\mathbf{D}^{-1}(\\mathbf{b}-\\mathbf{R}\\mathbf{x}^{k})=\\mathbf{D}^{-1}\\mathbf{b}-\\mathbf{D}^{-1}\\mathbf{R}\\mathbf{x}^{k}$\n",
    " \n",
    "En el lado izquierdo al hacer $\\mathbf{D}^{-1}\\mathbf{b}$ obtendremos \n",
    "\n",
    "$$\n",
    " \\mathbf{D}^{-1}\\mathbf{b}= \n",
    "\\begin{pmatrix}\n",
    "  a_{1,1}^{-1} & 0 & \\cdots & 0 \\\\\n",
    "  0 & a_{2,2}^{-1} & \\cdots & 0 \\\\\n",
    "  \\vdots  & \\vdots  & \\ddots & \\vdots  \\\\\n",
    "  0 & 0 & \\cdots & a_{n,n}^{-1}\n",
    " \\end{pmatrix}   \n",
    " \\begin{pmatrix}\n",
    " b_1 \\\\\n",
    " b_2 \\\\\n",
    " \\vdots \\\\\n",
    " b_n\n",
    " \\end{pmatrix} =\n",
    " \\begin{pmatrix}\n",
    " b_1  a_{1,1}^{-1} \\\\\n",
    " b_2  a_{2,2}^{-1} \\\\\n",
    " \\vdots \\\\\n",
    " b_n  a_{n,n}^{-1}\n",
    " \\end{pmatrix} = \\mathbf{d}\n",
    "$$\n",
    "\n",
    "continuando con el otro producto del sumando tenemos \n",
    "\n",
    "$$\n",
    "\\mathbf{-D}^{-1}\\mathbf{R}=\n",
    "\\begin{pmatrix}\n",
    "  -a_{1,1}^{-1} & 0 & \\cdots & 0 \\\\\n",
    "  0 & -a_{2,2}^{-1} & \\cdots & 0 \\\\\n",
    "  \\vdots  & \\vdots  & \\ddots & \\vdots  \\\\\n",
    "  0 & 0 & \\cdots & -a_{n,n}^{-1}\n",
    " \\end{pmatrix} \n",
    " \\begin{pmatrix}\n",
    " 0 & a_{1,2} & \\cdots & a_{1,n} \\\\\n",
    "  a_{2,1} & 0 & \\cdots & a_{2,n} \\\\\n",
    "  \\vdots  & \\vdots  & \\ddots & \\vdots  \\\\\n",
    "  a_{n,1} & a_{n,2} & \\cdots & 0\n",
    " \\end{pmatrix} =\n",
    " \\begin{pmatrix}\n",
    " 0 & -a_{1,2}a_{1,1}^{-1} & \\cdots & -a_{1,n}a_{1,1}^{-1} \\\\\n",
    "  -a_{2,1}a_{2,2}^{-1} & 0 & \\cdots &- a_{2,n}a_{2,2}^{-1} \\\\\n",
    "  \\vdots  & \\vdots  & \\ddots & \\vdots  \\\\\n",
    "  -a_{n,1}a_{n,n}^{-1} & -a_{n,2}a_{n,n}^{-1} & \\cdots & 0\n",
    " \\end{pmatrix}=\\mathbf{C}\n",
    "$$\n",
    "\n",
    "con lo anterior ya tenemos algo de la forma $$\n",
    "\\mathbf{x} = \\mathbf{Cx} +  \\mathbf{d} \n",
    "$$"
   ]
  },
  {
   "cell_type": "code",
   "execution_count": 6,
   "metadata": {},
   "outputs": [
    {
     "data": {
      "text/plain": [
       "matrizc (generic function with 1 method)"
      ]
     },
     "execution_count": 6,
     "metadata": {},
     "output_type": "execute_result"
    }
   ],
   "source": [
    "#crear c\n",
    "function matrizc(A)\n",
    "    n=length(A[:,1])\n",
    "    C=A\n",
    "    for i in 1:n\n",
    "        C[i,:]=(-1/A[i,i])*C[i,:]\n",
    "        C[i,i]=0\n",
    "    end\n",
    "    return C\n",
    "end"
   ]
  },
  {
   "cell_type": "code",
   "execution_count": 7,
   "metadata": {},
   "outputs": [
    {
     "data": {
      "text/plain": [
       "vectord (generic function with 1 method)"
      ]
     },
     "execution_count": 7,
     "metadata": {},
     "output_type": "execute_result"
    }
   ],
   "source": [
    "#crear d\n",
    "function vectord(A,b)\n",
    "    n=length(b)\n",
    "    d=b\n",
    "    for i in 1:n\n",
    "        d[i]=d[i]*(1/A[i,i])\n",
    "    end\n",
    "    return d\n",
    "end"
   ]
  },
  {
   "cell_type": "markdown",
   "metadata": {},
   "source": [
    "voy a realizar la función jacobiTol(A,b,T,X_inicial), de esta funcion esperamos obtener un arreglo de arreglos."
   ]
  },
  {
   "cell_type": "code",
   "execution_count": 8,
   "metadata": {},
   "outputs": [
    {
     "data": {
      "text/plain": [
       "jacobi (generic function with 1 method)"
      ]
     },
     "execution_count": 8,
     "metadata": {},
     "output_type": "execute_result"
    }
   ],
   "source": [
    "function jacobi(A,b,T,x_inicial)\n",
    "        res=[x_inicial]\n",
    "        d=vectord(A,b)\n",
    "        C=matrizc(A)\n",
    "        for i in 1:T-1 \n",
    "        push!(res,C*res[end]+d)\n",
    "        end\n",
    "    return res\n",
    "end"
   ]
  },
  {
   "cell_type": "markdown",
   "metadata": {},
   "source": [
    "Ahora, para el ejercicio 4 tenemos que la solución exacta al sistema es  𝑥=2 ,  𝑦=4 ,  𝑧=3 . Uso la función jacobi para ver si despues de una T=15 se aprecia si la sucesión resultante converge"
   ]
  },
  {
   "cell_type": "code",
   "execution_count": 9,
   "metadata": {},
   "outputs": [
    {
     "data": {
      "text/plain": [
       "15-element Array{Array{Float64,1},1}:\n",
       " [1.0, 1.0, 1.0]\n",
       " [1.75, 3.25, 3.2]\n",
       " [1.7625, 3.9, 3.05]\n",
       " [1.9625, 3.8875, 2.925]\n",
       " [1.990625, 3.971875, 3.0075]\n",
       " [1.99109375, 3.99625, 3.001875]\n",
       " [1.99859375, 3.9957812500000003, 2.9971875]\n",
       " [1.9996484375, 3.9989453125, 3.00028125]\n",
       " [1.999666015625, 3.9998593749999998, 3.0000703125]\n",
       " [1.999947265625, 3.9998417968749997, 2.99989453125]\n",
       " [1.99998681640625, 3.99996044921875, 3.000010546875]\n",
       " [1.9999874755859375, 3.9999947265625, 3.00000263671875]\n",
       " [1.9999980224609375, 3.9999940673828123, 2.999996044921875]\n",
       " [1.9999995056152344, 3.999998516845703, 3.0000003955078123]\n",
       " [1.9999995303344726, 3.999999802246094, 3.0000000988769533]"
      ]
     },
     "execution_count": 9,
     "metadata": {},
     "output_type": "execute_result"
    }
   ],
   "source": [
    "jacobi([[4.0 -1.0 1.0];[4.0 -8.0 1.0];[-2.0 1.0 5.0]],[7.0,-21.0,15.0],15,[1.0,1.0,1.0])"
   ]
  },
  {
   "cell_type": "markdown",
   "metadata": {},
   "source": [
    "podemos ver que la sucesion resultante converge."
   ]
  },
  {
   "cell_type": "code",
   "execution_count": 10,
   "metadata": {},
   "outputs": [
    {
     "data": {
      "text/plain": [
       "errorabs (generic function with 1 method)"
      ]
     },
     "execution_count": 10,
     "metadata": {},
     "output_type": "execute_result"
    }
   ],
   "source": [
    "function errorabs(x_inicial,n)\n",
    "    error=[]\n",
    "    for T in 1:n\n",
    "        x_aproximada=jacobi([[4.0 -1.0 1.0];[4.0 -8.0 1.0];[-2.0 1.0 5.0]],[7.0,-21.0,15.0],T,x_inicial)[end]\n",
    "        x_solucion=[2,4,3]\n",
    "\n",
    "        push!(error,norm(x_aproximada-x_solucion))\n",
    "    end\n",
    "    return error\n",
    "end"
   ]
  },
  {
   "cell_type": "code",
   "execution_count": 11,
   "metadata": {},
   "outputs": [
    {
     "data": {
      "text/plain": [
       "10-element Array{Any,1}:\n",
       " 1.7320508075688772\n",
       " 0.6562202374203344\n",
       " 0.16594897559189709\n",
       " 0.0649519052838328\n",
       " 0.024608258903262625\n",
       " 0.006223086584696228\n",
       " 0.0024356964481440824\n",
       " 0.00092280970887201\n",
       " 0.00023336574692586353\n",
       " 9.13386168055377e-5"
      ]
     },
     "execution_count": 11,
     "metadata": {},
     "output_type": "execute_result"
    }
   ],
   "source": [
    "errorabs([3.0,5.0,4.0],10)"
   ]
  },
  {
   "cell_type": "code",
   "execution_count": 12,
   "metadata": {},
   "outputs": [
    {
     "data": {
      "image/svg+xml": [
       "<?xml version=\"1.0\" encoding=\"utf-8\"?>\n",
       "<svg xmlns=\"http://www.w3.org/2000/svg\" xmlns:xlink=\"http://www.w3.org/1999/xlink\" width=\"600\" height=\"400\" viewBox=\"0 0 2400 1600\">\n",
       "<defs>\n",
       "  <clipPath id=\"clip120\">\n",
       "    <rect x=\"0\" y=\"0\" width=\"2400\" height=\"1600\"/>\n",
       "  </clipPath>\n",
       "</defs>\n",
       "<path clip-path=\"url(#clip120)\" d=\"\n",
       "M0 1600 L2400 1600 L2400 0 L0 0  Z\n",
       "  \" fill=\"#ffffff\" fill-rule=\"evenodd\" fill-opacity=\"1\"/>\n",
       "<defs>\n",
       "  <clipPath id=\"clip121\">\n",
       "    <rect x=\"480\" y=\"0\" width=\"1681\" height=\"1600\"/>\n",
       "  </clipPath>\n",
       "</defs>\n",
       "<path clip-path=\"url(#clip120)\" d=\"\n",
       "M211.116 1423.18 L2352.76 1423.18 L2352.76 47.2441 L211.116 47.2441  Z\n",
       "  \" fill=\"#ffffff\" fill-rule=\"evenodd\" fill-opacity=\"1\"/>\n",
       "<defs>\n",
       "  <clipPath id=\"clip122\">\n",
       "    <rect x=\"211\" y=\"47\" width=\"2143\" height=\"1377\"/>\n",
       "  </clipPath>\n",
       "</defs>\n",
       "<polyline clip-path=\"url(#clip122)\" style=\"stroke:#000000; stroke-width:2; stroke-opacity:0.1; fill:none\" points=\"\n",
       "  230.496,1423.18 230.496,47.2441 \n",
       "  \"/>\n",
       "<polyline clip-path=\"url(#clip122)\" style=\"stroke:#000000; stroke-width:2; stroke-opacity:0.1; fill:none\" points=\"\n",
       "  642.825,1423.18 642.825,47.2441 \n",
       "  \"/>\n",
       "<polyline clip-path=\"url(#clip122)\" style=\"stroke:#000000; stroke-width:2; stroke-opacity:0.1; fill:none\" points=\"\n",
       "  1055.15,1423.18 1055.15,47.2441 \n",
       "  \"/>\n",
       "<polyline clip-path=\"url(#clip122)\" style=\"stroke:#000000; stroke-width:2; stroke-opacity:0.1; fill:none\" points=\"\n",
       "  1467.48,1423.18 1467.48,47.2441 \n",
       "  \"/>\n",
       "<polyline clip-path=\"url(#clip122)\" style=\"stroke:#000000; stroke-width:2; stroke-opacity:0.1; fill:none\" points=\"\n",
       "  1879.81,1423.18 1879.81,47.2441 \n",
       "  \"/>\n",
       "<polyline clip-path=\"url(#clip122)\" style=\"stroke:#000000; stroke-width:2; stroke-opacity:0.1; fill:none\" points=\"\n",
       "  2292.14,1423.18 2292.14,47.2441 \n",
       "  \"/>\n",
       "<polyline clip-path=\"url(#clip122)\" style=\"stroke:#000000; stroke-width:2; stroke-opacity:0.1; fill:none\" points=\"\n",
       "  211.116,1384.31 2352.76,1384.31 \n",
       "  \"/>\n",
       "<polyline clip-path=\"url(#clip122)\" style=\"stroke:#000000; stroke-width:2; stroke-opacity:0.1; fill:none\" points=\"\n",
       "  211.116,1009.57 2352.76,1009.57 \n",
       "  \"/>\n",
       "<polyline clip-path=\"url(#clip122)\" style=\"stroke:#000000; stroke-width:2; stroke-opacity:0.1; fill:none\" points=\"\n",
       "  211.116,634.836 2352.76,634.836 \n",
       "  \"/>\n",
       "<polyline clip-path=\"url(#clip122)\" style=\"stroke:#000000; stroke-width:2; stroke-opacity:0.1; fill:none\" points=\"\n",
       "  211.116,260.101 2352.76,260.101 \n",
       "  \"/>\n",
       "<polyline clip-path=\"url(#clip120)\" style=\"stroke:#000000; stroke-width:4; stroke-opacity:1; fill:none\" points=\"\n",
       "  211.116,1423.18 2352.76,1423.18 \n",
       "  \"/>\n",
       "<polyline clip-path=\"url(#clip120)\" style=\"stroke:#000000; stroke-width:4; stroke-opacity:1; fill:none\" points=\"\n",
       "  211.116,1423.18 211.116,47.2441 \n",
       "  \"/>\n",
       "<polyline clip-path=\"url(#clip120)\" style=\"stroke:#000000; stroke-width:4; stroke-opacity:1; fill:none\" points=\"\n",
       "  230.496,1423.18 230.496,1406.67 \n",
       "  \"/>\n",
       "<polyline clip-path=\"url(#clip120)\" style=\"stroke:#000000; stroke-width:4; stroke-opacity:1; fill:none\" points=\"\n",
       "  642.825,1423.18 642.825,1406.67 \n",
       "  \"/>\n",
       "<polyline clip-path=\"url(#clip120)\" style=\"stroke:#000000; stroke-width:4; stroke-opacity:1; fill:none\" points=\"\n",
       "  1055.15,1423.18 1055.15,1406.67 \n",
       "  \"/>\n",
       "<polyline clip-path=\"url(#clip120)\" style=\"stroke:#000000; stroke-width:4; stroke-opacity:1; fill:none\" points=\"\n",
       "  1467.48,1423.18 1467.48,1406.67 \n",
       "  \"/>\n",
       "<polyline clip-path=\"url(#clip120)\" style=\"stroke:#000000; stroke-width:4; stroke-opacity:1; fill:none\" points=\"\n",
       "  1879.81,1423.18 1879.81,1406.67 \n",
       "  \"/>\n",
       "<polyline clip-path=\"url(#clip120)\" style=\"stroke:#000000; stroke-width:4; stroke-opacity:1; fill:none\" points=\"\n",
       "  2292.14,1423.18 2292.14,1406.67 \n",
       "  \"/>\n",
       "<polyline clip-path=\"url(#clip120)\" style=\"stroke:#000000; stroke-width:4; stroke-opacity:1; fill:none\" points=\"\n",
       "  211.116,1384.31 236.816,1384.31 \n",
       "  \"/>\n",
       "<polyline clip-path=\"url(#clip120)\" style=\"stroke:#000000; stroke-width:4; stroke-opacity:1; fill:none\" points=\"\n",
       "  211.116,1009.57 236.816,1009.57 \n",
       "  \"/>\n",
       "<polyline clip-path=\"url(#clip120)\" style=\"stroke:#000000; stroke-width:4; stroke-opacity:1; fill:none\" points=\"\n",
       "  211.116,634.836 236.816,634.836 \n",
       "  \"/>\n",
       "<polyline clip-path=\"url(#clip120)\" style=\"stroke:#000000; stroke-width:4; stroke-opacity:1; fill:none\" points=\"\n",
       "  211.116,260.101 236.816,260.101 \n",
       "  \"/>\n",
       "<path clip-path=\"url(#clip120)\" d=\"M 0 0 M230.496 1445.17 Q226.885 1445.17 225.056 1448.74 Q223.25 1452.28 223.25 1459.41 Q223.25 1466.51 225.056 1470.08 Q226.885 1473.62 230.496 1473.62 Q234.13 1473.62 235.936 1470.08 Q237.764 1466.51 237.764 1459.41 Q237.764 1452.28 235.936 1448.74 Q234.13 1445.17 230.496 1445.17 M230.496 1441.47 Q236.306 1441.47 239.361 1446.07 Q242.44 1450.66 242.44 1459.41 Q242.44 1468.13 239.361 1472.74 Q236.306 1477.32 230.496 1477.32 Q224.686 1477.32 221.607 1472.74 Q218.551 1468.13 218.551 1459.41 Q218.551 1450.66 221.607 1446.07 Q224.686 1441.47 230.496 1441.47 Z\" fill=\"#000000\" fill-rule=\"evenodd\" fill-opacity=\"1\" /><path clip-path=\"url(#clip120)\" d=\"M 0 0 M619.7 1472.72 L627.339 1472.72 L627.339 1446.35 L619.029 1448.02 L619.029 1443.76 L627.293 1442.09 L631.969 1442.09 L631.969 1472.72 L639.608 1472.72 L639.608 1476.65 L619.7 1476.65 L619.7 1472.72 Z\" fill=\"#000000\" fill-rule=\"evenodd\" fill-opacity=\"1\" /><path clip-path=\"url(#clip120)\" d=\"M 0 0 M654.677 1445.17 Q651.066 1445.17 649.237 1448.74 Q647.432 1452.28 647.432 1459.41 Q647.432 1466.51 649.237 1470.08 Q651.066 1473.62 654.677 1473.62 Q658.311 1473.62 660.117 1470.08 Q661.946 1466.51 661.946 1459.41 Q661.946 1452.28 660.117 1448.74 Q658.311 1445.17 654.677 1445.17 M654.677 1441.47 Q660.487 1441.47 663.543 1446.07 Q666.622 1450.66 666.622 1459.41 Q666.622 1468.13 663.543 1472.74 Q660.487 1477.32 654.677 1477.32 Q648.867 1477.32 645.788 1472.74 Q642.733 1468.13 642.733 1459.41 Q642.733 1450.66 645.788 1446.07 Q648.867 1441.47 654.677 1441.47 Z\" fill=\"#000000\" fill-rule=\"evenodd\" fill-opacity=\"1\" /><path clip-path=\"url(#clip120)\" d=\"M 0 0 M1036.3 1472.72 L1052.62 1472.72 L1052.62 1476.65 L1030.68 1476.65 L1030.68 1472.72 Q1033.34 1469.96 1037.92 1465.33 Q1042.53 1460.68 1043.71 1459.34 Q1045.95 1456.81 1046.83 1455.08 Q1047.74 1453.32 1047.74 1451.63 Q1047.74 1448.87 1045.79 1447.14 Q1043.87 1445.4 1040.77 1445.4 Q1038.57 1445.4 1036.12 1446.17 Q1033.69 1446.93 1030.91 1448.48 L1030.91 1443.76 Q1033.73 1442.62 1036.19 1442.05 Q1038.64 1441.47 1040.68 1441.47 Q1046.05 1441.47 1049.24 1444.15 Q1052.43 1446.84 1052.43 1451.33 Q1052.43 1453.46 1051.62 1455.38 Q1050.84 1457.28 1048.73 1459.87 Q1048.15 1460.54 1045.05 1463.76 Q1041.95 1466.95 1036.3 1472.72 Z\" fill=\"#000000\" fill-rule=\"evenodd\" fill-opacity=\"1\" /><path clip-path=\"url(#clip120)\" d=\"M 0 0 M1067.69 1445.17 Q1064.08 1445.17 1062.25 1448.74 Q1060.44 1452.28 1060.44 1459.41 Q1060.44 1466.51 1062.25 1470.08 Q1064.08 1473.62 1067.69 1473.62 Q1071.32 1473.62 1073.13 1470.08 Q1074.96 1466.51 1074.96 1459.41 Q1074.96 1452.28 1073.13 1448.74 Q1071.32 1445.17 1067.69 1445.17 M1067.69 1441.47 Q1073.5 1441.47 1076.56 1446.07 Q1079.63 1450.66 1079.63 1459.41 Q1079.63 1468.13 1076.56 1472.74 Q1073.5 1477.32 1067.69 1477.32 Q1061.88 1477.32 1058.8 1472.74 Q1055.75 1468.13 1055.75 1459.41 Q1055.75 1450.66 1058.8 1446.07 Q1061.88 1441.47 1067.69 1441.47 Z\" fill=\"#000000\" fill-rule=\"evenodd\" fill-opacity=\"1\" /><path clip-path=\"url(#clip120)\" d=\"M 0 0 M1458.23 1458.02 Q1461.58 1458.74 1463.46 1461 Q1465.35 1463.27 1465.35 1466.61 Q1465.35 1471.72 1461.84 1474.52 Q1458.32 1477.32 1451.84 1477.32 Q1449.66 1477.32 1447.35 1476.88 Q1445.05 1476.47 1442.6 1475.61 L1442.6 1471.1 Q1444.54 1472.23 1446.86 1472.81 Q1449.17 1473.39 1451.7 1473.39 Q1456.1 1473.39 1458.39 1471.65 Q1460.7 1469.92 1460.7 1466.61 Q1460.7 1463.55 1458.55 1461.84 Q1456.42 1460.1 1452.6 1460.1 L1448.57 1460.1 L1448.57 1456.26 L1452.79 1456.26 Q1456.23 1456.26 1458.06 1454.89 Q1459.89 1453.5 1459.89 1450.91 Q1459.89 1448.25 1457.99 1446.84 Q1456.12 1445.4 1452.6 1445.4 Q1450.68 1445.4 1448.48 1445.82 Q1446.28 1446.24 1443.64 1447.11 L1443.64 1442.95 Q1446.3 1442.21 1448.62 1441.84 Q1450.96 1441.47 1453.02 1441.47 Q1458.34 1441.47 1461.44 1443.9 Q1464.54 1446.3 1464.54 1450.43 Q1464.54 1453.3 1462.9 1455.29 Q1461.26 1457.25 1458.23 1458.02 Z\" fill=\"#000000\" fill-rule=\"evenodd\" fill-opacity=\"1\" /><path clip-path=\"url(#clip120)\" d=\"M 0 0 M1480.42 1445.17 Q1476.81 1445.17 1474.98 1448.74 Q1473.18 1452.28 1473.18 1459.41 Q1473.18 1466.51 1474.98 1470.08 Q1476.81 1473.62 1480.42 1473.62 Q1484.06 1473.62 1485.86 1470.08 Q1487.69 1466.51 1487.69 1459.41 Q1487.69 1452.28 1485.86 1448.74 Q1484.06 1445.17 1480.42 1445.17 M1480.42 1441.47 Q1486.23 1441.47 1489.29 1446.07 Q1492.37 1450.66 1492.37 1459.41 Q1492.37 1468.13 1489.29 1472.74 Q1486.23 1477.32 1480.42 1477.32 Q1474.61 1477.32 1471.54 1472.74 Q1468.48 1468.13 1468.48 1459.41 Q1468.48 1450.66 1471.54 1446.07 Q1474.61 1441.47 1480.42 1441.47 Z\" fill=\"#000000\" fill-rule=\"evenodd\" fill-opacity=\"1\" /><path clip-path=\"url(#clip120)\" d=\"M 0 0 M1869.32 1446.17 L1857.51 1464.61 L1869.32 1464.61 L1869.32 1446.17 M1868.09 1442.09 L1873.97 1442.09 L1873.97 1464.61 L1878.9 1464.61 L1878.9 1468.5 L1873.97 1468.5 L1873.97 1476.65 L1869.32 1476.65 L1869.32 1468.5 L1853.71 1468.5 L1853.71 1463.99 L1868.09 1442.09 Z\" fill=\"#000000\" fill-rule=\"evenodd\" fill-opacity=\"1\" /><path clip-path=\"url(#clip120)\" d=\"M 0 0 M1893.97 1445.17 Q1890.36 1445.17 1888.53 1448.74 Q1886.72 1452.28 1886.72 1459.41 Q1886.72 1466.51 1888.53 1470.08 Q1890.36 1473.62 1893.97 1473.62 Q1897.6 1473.62 1899.41 1470.08 Q1901.24 1466.51 1901.24 1459.41 Q1901.24 1452.28 1899.41 1448.74 Q1897.6 1445.17 1893.97 1445.17 M1893.97 1441.47 Q1899.78 1441.47 1902.83 1446.07 Q1905.91 1450.66 1905.91 1459.41 Q1905.91 1468.13 1902.83 1472.74 Q1899.78 1477.32 1893.97 1477.32 Q1888.16 1477.32 1885.08 1472.74 Q1882.02 1468.13 1882.02 1459.41 Q1882.02 1450.66 1885.08 1446.07 Q1888.16 1441.47 1893.97 1441.47 Z\" fill=\"#000000\" fill-rule=\"evenodd\" fill-opacity=\"1\" /><path clip-path=\"url(#clip120)\" d=\"M 0 0 M2268.91 1442.09 L2287.27 1442.09 L2287.27 1446.03 L2273.2 1446.03 L2273.2 1454.5 Q2274.22 1454.15 2275.23 1453.99 Q2276.25 1453.8 2277.27 1453.8 Q2283.06 1453.8 2286.44 1456.98 Q2289.82 1460.15 2289.82 1465.56 Q2289.82 1471.14 2286.34 1474.24 Q2282.87 1477.32 2276.55 1477.32 Q2274.38 1477.32 2272.11 1476.95 Q2269.86 1476.58 2267.46 1475.84 L2267.46 1471.14 Q2269.54 1472.28 2271.76 1472.83 Q2273.98 1473.39 2276.46 1473.39 Q2280.47 1473.39 2282.8 1471.28 Q2285.14 1469.18 2285.14 1465.56 Q2285.14 1461.95 2282.8 1459.85 Q2280.47 1457.74 2276.46 1457.74 Q2274.59 1457.74 2272.71 1458.16 Q2270.86 1458.57 2268.91 1459.45 L2268.91 1442.09 Z\" fill=\"#000000\" fill-rule=\"evenodd\" fill-opacity=\"1\" /><path clip-path=\"url(#clip120)\" d=\"M 0 0 M2304.89 1445.17 Q2301.28 1445.17 2299.45 1448.74 Q2297.64 1452.28 2297.64 1459.41 Q2297.64 1466.51 2299.45 1470.08 Q2301.28 1473.62 2304.89 1473.62 Q2308.52 1473.62 2310.33 1470.08 Q2312.15 1466.51 2312.15 1459.41 Q2312.15 1452.28 2310.33 1448.74 Q2308.52 1445.17 2304.89 1445.17 M2304.89 1441.47 Q2310.7 1441.47 2313.75 1446.07 Q2316.83 1450.66 2316.83 1459.41 Q2316.83 1468.13 2313.75 1472.74 Q2310.7 1477.32 2304.89 1477.32 Q2299.08 1477.32 2296 1472.74 Q2292.94 1468.13 2292.94 1459.41 Q2292.94 1450.66 2296 1446.07 Q2299.08 1441.47 2304.89 1441.47 Z\" fill=\"#000000\" fill-rule=\"evenodd\" fill-opacity=\"1\" /><path clip-path=\"url(#clip120)\" d=\"M 0 0 M138.205 1370.11 Q134.593 1370.11 132.765 1373.67 Q130.959 1377.21 130.959 1384.34 Q130.959 1391.45 132.765 1395.01 Q134.593 1398.55 138.205 1398.55 Q141.839 1398.55 143.644 1395.01 Q145.473 1391.45 145.473 1384.34 Q145.473 1377.21 143.644 1373.67 Q141.839 1370.11 138.205 1370.11 M138.205 1366.4 Q144.015 1366.4 147.07 1371.01 Q150.149 1375.59 150.149 1384.34 Q150.149 1393.07 147.07 1397.67 Q144.015 1402.26 138.205 1402.26 Q132.394 1402.26 129.316 1397.67 Q126.26 1393.07 126.26 1384.34 Q126.26 1375.59 129.316 1371.01 Q132.394 1366.4 138.205 1366.4 Z\" fill=\"#000000\" fill-rule=\"evenodd\" fill-opacity=\"1\" /><path clip-path=\"url(#clip120)\" d=\"M 0 0 M155.218 1395.71 L160.103 1395.71 L160.103 1401.59 L155.218 1401.59 L155.218 1395.71 Z\" fill=\"#000000\" fill-rule=\"evenodd\" fill-opacity=\"1\" /><path clip-path=\"url(#clip120)\" d=\"M 0 0 M175.172 1370.11 Q171.561 1370.11 169.732 1373.67 Q167.927 1377.21 167.927 1384.34 Q167.927 1391.45 169.732 1395.01 Q171.561 1398.55 175.172 1398.55 Q178.806 1398.55 180.612 1395.01 Q182.44 1391.45 182.44 1384.34 Q182.44 1377.21 180.612 1373.67 Q178.806 1370.11 175.172 1370.11 M175.172 1366.4 Q180.982 1366.4 184.038 1371.01 Q187.116 1375.59 187.116 1384.34 Q187.116 1393.07 184.038 1397.67 Q180.982 1402.26 175.172 1402.26 Q169.362 1402.26 166.283 1397.67 Q163.228 1393.07 163.228 1384.34 Q163.228 1375.59 166.283 1371.01 Q169.362 1366.4 175.172 1366.4 Z\" fill=\"#000000\" fill-rule=\"evenodd\" fill-opacity=\"1\" /><path clip-path=\"url(#clip120)\" d=\"M 0 0 M139.2 995.37 Q135.589 995.37 133.76 998.935 Q131.955 1002.48 131.955 1009.61 Q131.955 1016.71 133.76 1020.28 Q135.589 1023.82 139.2 1023.82 Q142.834 1023.82 144.64 1020.28 Q146.468 1016.71 146.468 1009.61 Q146.468 1002.48 144.64 998.935 Q142.834 995.37 139.2 995.37 M139.2 991.666 Q145.01 991.666 148.066 996.273 Q151.144 1000.86 151.144 1009.61 Q151.144 1018.33 148.066 1022.94 Q145.01 1027.52 139.2 1027.52 Q133.39 1027.52 130.311 1022.94 Q127.256 1018.33 127.256 1009.61 Q127.256 1000.86 130.311 996.273 Q133.39 991.666 139.2 991.666 Z\" fill=\"#000000\" fill-rule=\"evenodd\" fill-opacity=\"1\" /><path clip-path=\"url(#clip120)\" d=\"M 0 0 M156.214 1020.97 L161.098 1020.97 L161.098 1026.85 L156.214 1026.85 L156.214 1020.97 Z\" fill=\"#000000\" fill-rule=\"evenodd\" fill-opacity=\"1\" /><path clip-path=\"url(#clip120)\" d=\"M 0 0 M166.214 992.291 L184.57 992.291 L184.57 996.227 L170.496 996.227 L170.496 1004.7 Q171.515 1004.35 172.533 1004.19 Q173.552 1004 174.57 1004 Q180.357 1004 183.737 1007.18 Q187.116 1010.35 187.116 1015.76 Q187.116 1021.34 183.644 1024.44 Q180.172 1027.52 173.852 1027.52 Q171.677 1027.52 169.408 1027.15 Q167.163 1026.78 164.755 1026.04 L164.755 1021.34 Q166.839 1022.48 169.061 1023.03 Q171.283 1023.59 173.76 1023.59 Q177.765 1023.59 180.102 1021.48 Q182.44 1019.37 182.44 1015.76 Q182.44 1012.15 180.102 1010.05 Q177.765 1007.94 173.76 1007.94 Q171.885 1007.94 170.01 1008.36 Q168.158 1008.77 166.214 1009.65 L166.214 992.291 Z\" fill=\"#000000\" fill-rule=\"evenodd\" fill-opacity=\"1\" /><path clip-path=\"url(#clip120)\" d=\"M 0 0 M130.242 648.181 L137.88 648.181 L137.88 621.815 L129.57 623.482 L129.57 619.223 L137.834 617.556 L142.51 617.556 L142.51 648.181 L150.149 648.181 L150.149 652.116 L130.242 652.116 L130.242 648.181 Z\" fill=\"#000000\" fill-rule=\"evenodd\" fill-opacity=\"1\" /><path clip-path=\"url(#clip120)\" d=\"M 0 0 M155.218 646.237 L160.103 646.237 L160.103 652.116 L155.218 652.116 L155.218 646.237 Z\" fill=\"#000000\" fill-rule=\"evenodd\" fill-opacity=\"1\" /><path clip-path=\"url(#clip120)\" d=\"M 0 0 M175.172 620.635 Q171.561 620.635 169.732 624.2 Q167.927 627.741 167.927 634.871 Q167.927 641.977 169.732 645.542 Q171.561 649.084 175.172 649.084 Q178.806 649.084 180.612 645.542 Q182.44 641.977 182.44 634.871 Q182.44 627.741 180.612 624.2 Q178.806 620.635 175.172 620.635 M175.172 616.931 Q180.982 616.931 184.038 621.538 Q187.116 626.121 187.116 634.871 Q187.116 643.598 184.038 648.204 Q180.982 652.787 175.172 652.787 Q169.362 652.787 166.283 648.204 Q163.228 643.598 163.228 634.871 Q163.228 626.121 166.283 621.538 Q169.362 616.931 175.172 616.931 Z\" fill=\"#000000\" fill-rule=\"evenodd\" fill-opacity=\"1\" /><path clip-path=\"url(#clip120)\" d=\"M 0 0 M131.237 273.446 L138.876 273.446 L138.876 247.08 L130.566 248.747 L130.566 244.488 L138.83 242.821 L143.505 242.821 L143.505 273.446 L151.144 273.446 L151.144 277.381 L131.237 277.381 L131.237 273.446 Z\" fill=\"#000000\" fill-rule=\"evenodd\" fill-opacity=\"1\" /><path clip-path=\"url(#clip120)\" d=\"M 0 0 M156.214 271.501 L161.098 271.501 L161.098 277.381 L156.214 277.381 L156.214 271.501 Z\" fill=\"#000000\" fill-rule=\"evenodd\" fill-opacity=\"1\" /><path clip-path=\"url(#clip120)\" d=\"M 0 0 M166.214 242.821 L184.57 242.821 L184.57 246.756 L170.496 246.756 L170.496 255.228 Q171.515 254.881 172.533 254.719 Q173.552 254.534 174.57 254.534 Q180.357 254.534 183.737 257.705 Q187.116 260.876 187.116 266.293 Q187.116 271.872 183.644 274.974 Q180.172 278.052 173.852 278.052 Q171.677 278.052 169.408 277.682 Q167.163 277.311 164.755 276.571 L164.755 271.872 Q166.839 273.006 169.061 273.561 Q171.283 274.117 173.76 274.117 Q177.765 274.117 180.102 272.011 Q182.44 269.904 182.44 266.293 Q182.44 262.682 180.102 260.575 Q177.765 258.469 173.76 258.469 Q171.885 258.469 170.01 258.886 Q168.158 259.302 166.214 260.182 L166.214 242.821 Z\" fill=\"#000000\" fill-rule=\"evenodd\" fill-opacity=\"1\" /><path clip-path=\"url(#clip120)\" d=\"M 0 0 M1298.55 1520.4 L1285.66 1537.74 L1299.22 1556.04 L1292.31 1556.04 L1281.94 1542.04 L1271.56 1556.04 L1264.65 1556.04 L1278.5 1537.39 L1265.83 1520.4 L1272.74 1520.4 L1282.19 1533.1 L1291.64 1520.4 L1298.55 1520.4 Z\" fill=\"#000000\" fill-rule=\"evenodd\" fill-opacity=\"1\" /><path clip-path=\"url(#clip120)\" d=\"M 0 0 M91.3143 733.525 Q97.68 736.008 99.6216 738.363 Q101.563 740.718 101.563 744.665 L101.563 749.344 L96.6615 749.344 L96.6615 745.906 Q96.6615 743.487 95.5157 742.151 Q94.3699 740.814 90.1048 739.191 L87.4312 738.14 L52.3562 752.559 L52.3562 746.352 L80.238 735.212 L52.3562 724.072 L52.3562 717.865 L91.3143 733.525 Z\" fill=\"#000000\" fill-rule=\"evenodd\" fill-opacity=\"1\" /><polyline clip-path=\"url(#clip122)\" style=\"stroke:#009af9; stroke-width:4; stroke-opacity:1; fill:none\" points=\"\n",
       "  271.729,86.1857 496.219,892.489 720.71,1259.93 945.2,1335.63 1169.69,1365.86 1394.18,1379.64 1618.67,1382.48 1843.16,1383.62 2067.65,1384.13 2292.14,1384.24 \n",
       "  \n",
       "  \"/>\n",
       "<polyline clip-path=\"url(#clip122)\" style=\"stroke:#e26f46; stroke-width:4; stroke-opacity:1; fill:none\" points=\"\n",
       "  271.729,86.1857 496.219,892.489 720.71,1259.93 945.2,1335.63 1169.69,1365.86 1394.18,1379.64 1618.67,1382.48 1843.16,1383.62 2067.65,1384.13 2292.14,1384.24 \n",
       "  \n",
       "  \"/>\n",
       "<polyline clip-path=\"url(#clip122)\" style=\"stroke:#3da44d; stroke-width:4; stroke-opacity:1; fill:none\" points=\"\n",
       "  271.729,86.1857 496.219,892.489 720.71,1259.93 945.2,1335.63 1169.69,1365.86 1394.18,1379.64 1618.67,1382.48 1843.16,1383.62 2067.65,1384.13 2292.14,1384.24 \n",
       "  \n",
       "  \"/>\n",
       "<polyline clip-path=\"url(#clip122)\" style=\"stroke:#c271d2; stroke-width:4; stroke-opacity:1; fill:none\" points=\"\n",
       "  271.729,86.1857 496.219,892.489 720.71,1259.93 945.2,1335.63 1169.69,1365.86 1394.18,1379.64 1618.67,1382.48 1843.16,1383.62 2067.65,1384.13 2292.14,1384.24 \n",
       "  \n",
       "  \"/>\n",
       "<polyline clip-path=\"url(#clip122)\" style=\"stroke:#ac8d18; stroke-width:4; stroke-opacity:1; fill:none\" points=\"\n",
       "  271.729,86.1857 496.219,892.489 720.71,1259.93 945.2,1335.63 1169.69,1365.86 1394.18,1379.64 1618.67,1382.48 1843.16,1383.62 2067.65,1384.13 2292.14,1384.24 \n",
       "  \n",
       "  \"/>\n",
       "<polyline clip-path=\"url(#clip122)\" style=\"stroke:#00a9ad; stroke-width:4; stroke-opacity:1; fill:none\" points=\"\n",
       "  271.729,86.1857 496.219,892.489 720.71,1259.93 945.2,1335.63 1169.69,1365.86 1394.18,1379.64 1618.67,1382.48 1843.16,1383.62 2067.65,1384.13 2292.14,1384.24 \n",
       "  \n",
       "  \"/>\n",
       "<polyline clip-path=\"url(#clip122)\" style=\"stroke:#ed5d92; stroke-width:4; stroke-opacity:1; fill:none\" points=\"\n",
       "  271.729,86.1857 496.219,892.489 720.71,1259.93 945.2,1335.63 1169.69,1365.86 1394.18,1379.64 1618.67,1382.48 1843.16,1383.62 2067.65,1384.13 2292.14,1384.24 \n",
       "  \n",
       "  \"/>\n",
       "<polyline clip-path=\"url(#clip122)\" style=\"stroke:#c68125; stroke-width:4; stroke-opacity:1; fill:none\" points=\"\n",
       "  271.729,86.1857 496.219,892.489 720.71,1259.93 945.2,1335.63 1169.69,1365.86 1394.18,1379.64 1618.67,1382.48 1843.16,1383.62 2067.65,1384.13 2292.14,1384.24 \n",
       "  \n",
       "  \"/>\n",
       "<polyline clip-path=\"url(#clip122)\" style=\"stroke:#00a98d; stroke-width:4; stroke-opacity:1; fill:none\" points=\"\n",
       "  271.729,86.1857 496.219,892.489 720.71,1259.93 945.2,1335.63 1169.69,1365.86 1394.18,1379.64 1618.67,1382.48 1843.16,1383.62 2067.65,1384.13 2292.14,1384.24 \n",
       "  \n",
       "  \"/>\n",
       "<polyline clip-path=\"url(#clip122)\" style=\"stroke:#8e971d; stroke-width:4; stroke-opacity:1; fill:none\" points=\"\n",
       "  271.729,86.1857 496.219,892.489 720.71,1259.93 945.2,1335.63 1169.69,1365.86 1394.18,1379.64 1618.67,1382.48 1843.16,1383.62 2067.65,1384.13 2292.14,1384.24 \n",
       "  \n",
       "  \"/>\n",
       "<path clip-path=\"url(#clip120)\" d=\"\n",
       "M1965.38 758.389 L2281.37 758.389 L2281.37 93.1086 L1965.38 93.1086  Z\n",
       "  \" fill=\"#ffffff\" fill-rule=\"evenodd\" fill-opacity=\"1\"/>\n",
       "<polyline clip-path=\"url(#clip120)\" style=\"stroke:#000000; stroke-width:4; stroke-opacity:1; fill:none\" points=\"\n",
       "  1965.38,758.389 2281.37,758.389 2281.37,93.1086 1965.38,93.1086 1965.38,758.389 \n",
       "  \"/>\n",
       "<polyline clip-path=\"url(#clip120)\" style=\"stroke:#009af9; stroke-width:4; stroke-opacity:1; fill:none\" points=\"\n",
       "  1989.17,153.589 2131.95,153.589 \n",
       "  \"/>\n",
       "<path clip-path=\"url(#clip120)\" d=\"M 0 0 M2169.59 173.276 Q2167.78 177.906 2166.07 179.318 Q2164.36 180.73 2161.48 180.73 L2158.08 180.73 L2158.08 177.165 L2160.58 177.165 Q2162.34 177.165 2163.31 176.332 Q2164.29 175.498 2165.47 172.396 L2166.23 170.452 L2155.74 144.943 L2160.26 144.943 L2168.36 165.221 L2176.46 144.943 L2180.98 144.943 L2169.59 173.276 Z\" fill=\"#000000\" fill-rule=\"evenodd\" fill-opacity=\"1\" /><path clip-path=\"url(#clip120)\" d=\"M 0 0 M2186.85 166.933 L2194.49 166.933 L2194.49 140.568 L2186.18 142.235 L2186.18 137.975 L2194.45 136.309 L2199.12 136.309 L2199.12 166.933 L2206.76 166.933 L2206.76 170.869 L2186.85 170.869 L2186.85 166.933 Z\" fill=\"#000000\" fill-rule=\"evenodd\" fill-opacity=\"1\" /><polyline clip-path=\"url(#clip120)\" style=\"stroke:#e26f46; stroke-width:4; stroke-opacity:1; fill:none\" points=\"\n",
       "  1989.17,214.069 2131.95,214.069 \n",
       "  \"/>\n",
       "<path clip-path=\"url(#clip120)\" d=\"M 0 0 M2169.59 233.756 Q2167.78 238.386 2166.07 239.798 Q2164.36 241.21 2161.48 241.21 L2158.08 241.21 L2158.08 237.645 L2160.58 237.645 Q2162.34 237.645 2163.31 236.812 Q2164.29 235.978 2165.47 232.876 L2166.23 230.932 L2155.74 205.423 L2160.26 205.423 L2168.36 225.701 L2176.46 205.423 L2180.98 205.423 L2169.59 233.756 Z\" fill=\"#000000\" fill-rule=\"evenodd\" fill-opacity=\"1\" /><path clip-path=\"url(#clip120)\" d=\"M 0 0 M2190.07 227.413 L2206.39 227.413 L2206.39 231.349 L2184.45 231.349 L2184.45 227.413 Q2187.11 224.659 2191.69 220.029 Q2196.3 215.376 2197.48 214.034 Q2199.73 211.511 2200.6 209.775 Q2201.51 208.015 2201.51 206.326 Q2201.51 203.571 2199.56 201.835 Q2197.64 200.099 2194.54 200.099 Q2192.34 200.099 2189.89 200.863 Q2187.46 201.627 2184.68 203.177 L2184.68 198.455 Q2187.5 197.321 2189.96 196.742 Q2192.41 196.164 2194.45 196.164 Q2199.82 196.164 2203.01 198.849 Q2206.21 201.534 2206.21 206.025 Q2206.21 208.154 2205.4 210.076 Q2204.61 211.974 2202.5 214.566 Q2201.92 215.238 2198.82 218.455 Q2195.72 221.65 2190.07 227.413 Z\" fill=\"#000000\" fill-rule=\"evenodd\" fill-opacity=\"1\" /><polyline clip-path=\"url(#clip120)\" style=\"stroke:#3da44d; stroke-width:4; stroke-opacity:1; fill:none\" points=\"\n",
       "  1989.17,274.549 2131.95,274.549 \n",
       "  \"/>\n",
       "<path clip-path=\"url(#clip120)\" d=\"M 0 0 M2169.59 294.236 Q2167.78 298.866 2166.07 300.278 Q2164.36 301.69 2161.48 301.69 L2158.08 301.69 L2158.08 298.125 L2160.58 298.125 Q2162.34 298.125 2163.31 297.292 Q2164.29 296.458 2165.47 293.356 L2166.23 291.412 L2155.74 265.903 L2160.26 265.903 L2168.36 286.181 L2176.46 265.903 L2180.98 265.903 L2169.59 294.236 Z\" fill=\"#000000\" fill-rule=\"evenodd\" fill-opacity=\"1\" /><path clip-path=\"url(#clip120)\" d=\"M 0 0 M2200.21 273.194 Q2203.57 273.912 2205.44 276.181 Q2207.34 278.449 2207.34 281.782 Q2207.34 286.898 2203.82 289.699 Q2200.3 292.5 2193.82 292.5 Q2191.65 292.5 2189.33 292.06 Q2187.04 291.643 2184.59 290.787 L2184.59 286.273 Q2186.53 287.407 2188.85 287.986 Q2191.16 288.565 2193.68 288.565 Q2198.08 288.565 2200.37 286.829 Q2202.69 285.093 2202.69 281.782 Q2202.69 278.727 2200.54 277.014 Q2198.41 275.278 2194.59 275.278 L2190.56 275.278 L2190.56 271.435 L2194.77 271.435 Q2198.22 271.435 2200.05 270.069 Q2201.88 268.681 2201.88 266.088 Q2201.88 263.426 2199.98 262.014 Q2198.1 260.579 2194.59 260.579 Q2192.67 260.579 2190.47 260.995 Q2188.27 261.412 2185.63 262.292 L2185.63 258.125 Q2188.29 257.384 2190.6 257.014 Q2192.94 256.644 2195 256.644 Q2200.33 256.644 2203.43 259.074 Q2206.53 261.482 2206.53 265.602 Q2206.53 268.472 2204.89 270.463 Q2203.24 272.431 2200.21 273.194 Z\" fill=\"#000000\" fill-rule=\"evenodd\" fill-opacity=\"1\" /><polyline clip-path=\"url(#clip120)\" style=\"stroke:#c271d2; stroke-width:4; stroke-opacity:1; fill:none\" points=\"\n",
       "  1989.17,335.029 2131.95,335.029 \n",
       "  \"/>\n",
       "<path clip-path=\"url(#clip120)\" d=\"M 0 0 M2169.59 354.716 Q2167.78 359.346 2166.07 360.758 Q2164.36 362.17 2161.48 362.17 L2158.08 362.17 L2158.08 358.605 L2160.58 358.605 Q2162.34 358.605 2163.31 357.772 Q2164.29 356.938 2165.47 353.836 L2166.23 351.892 L2155.74 326.383 L2160.26 326.383 L2168.36 346.661 L2176.46 326.383 L2180.98 326.383 L2169.59 354.716 Z\" fill=\"#000000\" fill-rule=\"evenodd\" fill-opacity=\"1\" /><path clip-path=\"url(#clip120)\" d=\"M 0 0 M2198.89 321.823 L2187.09 340.272 L2198.89 340.272 L2198.89 321.823 M2197.67 317.749 L2203.54 317.749 L2203.54 340.272 L2208.48 340.272 L2208.48 344.161 L2203.54 344.161 L2203.54 352.309 L2198.89 352.309 L2198.89 344.161 L2183.29 344.161 L2183.29 339.647 L2197.67 317.749 Z\" fill=\"#000000\" fill-rule=\"evenodd\" fill-opacity=\"1\" /><polyline clip-path=\"url(#clip120)\" style=\"stroke:#ac8d18; stroke-width:4; stroke-opacity:1; fill:none\" points=\"\n",
       "  1989.17,395.509 2131.95,395.509 \n",
       "  \"/>\n",
       "<path clip-path=\"url(#clip120)\" d=\"M 0 0 M2169.59 415.196 Q2167.78 419.826 2166.07 421.238 Q2164.36 422.65 2161.48 422.65 L2158.08 422.65 L2158.08 419.085 L2160.58 419.085 Q2162.34 419.085 2163.31 418.252 Q2164.29 417.418 2165.47 414.316 L2166.23 412.372 L2155.74 386.863 L2160.26 386.863 L2168.36 407.141 L2176.46 386.863 L2180.98 386.863 L2169.59 415.196 Z\" fill=\"#000000\" fill-rule=\"evenodd\" fill-opacity=\"1\" /><path clip-path=\"url(#clip120)\" d=\"M 0 0 M2186.09 378.229 L2204.45 378.229 L2204.45 382.164 L2190.37 382.164 L2190.37 390.636 Q2191.39 390.289 2192.41 390.127 Q2193.43 389.942 2194.45 389.942 Q2200.23 389.942 2203.61 393.113 Q2206.99 396.284 2206.99 401.701 Q2206.99 407.279 2203.52 410.381 Q2200.05 413.46 2193.73 413.46 Q2191.55 413.46 2189.29 413.09 Q2187.04 412.719 2184.63 411.978 L2184.63 407.279 Q2186.72 408.414 2188.94 408.969 Q2191.16 409.525 2193.64 409.525 Q2197.64 409.525 2199.98 407.418 Q2202.32 405.312 2202.32 401.701 Q2202.32 398.09 2199.98 395.983 Q2197.64 393.877 2193.64 393.877 Q2191.76 393.877 2189.89 394.293 Q2188.04 394.71 2186.09 395.59 L2186.09 378.229 Z\" fill=\"#000000\" fill-rule=\"evenodd\" fill-opacity=\"1\" /><polyline clip-path=\"url(#clip120)\" style=\"stroke:#00a9ad; stroke-width:4; stroke-opacity:1; fill:none\" points=\"\n",
       "  1989.17,455.989 2131.95,455.989 \n",
       "  \"/>\n",
       "<path clip-path=\"url(#clip120)\" d=\"M 0 0 M2169.59 475.676 Q2167.78 480.306 2166.07 481.718 Q2164.36 483.13 2161.48 483.13 L2158.08 483.13 L2158.08 479.565 L2160.58 479.565 Q2162.34 479.565 2163.31 478.732 Q2164.29 477.898 2165.47 474.796 L2166.23 472.852 L2155.74 447.343 L2160.26 447.343 L2168.36 467.621 L2176.46 447.343 L2180.98 447.343 L2169.59 475.676 Z\" fill=\"#000000\" fill-rule=\"evenodd\" fill-opacity=\"1\" /><path clip-path=\"url(#clip120)\" d=\"M 0 0 M2196.62 454.125 Q2193.48 454.125 2191.62 456.278 Q2189.79 458.431 2189.79 462.181 Q2189.79 465.908 2191.62 468.083 Q2193.48 470.236 2196.62 470.236 Q2199.77 470.236 2201.6 468.083 Q2203.45 465.908 2203.45 462.181 Q2203.45 458.431 2201.6 456.278 Q2199.77 454.125 2196.62 454.125 M2205.91 439.473 L2205.91 443.732 Q2204.15 442.898 2202.34 442.459 Q2200.56 442.019 2198.8 442.019 Q2194.17 442.019 2191.72 445.144 Q2189.29 448.269 2188.94 454.588 Q2190.3 452.574 2192.36 451.509 Q2194.42 450.422 2196.9 450.422 Q2202.11 450.422 2205.12 453.593 Q2208.15 456.741 2208.15 462.181 Q2208.15 467.505 2205 470.722 Q2201.85 473.94 2196.62 473.94 Q2190.63 473.94 2187.46 469.357 Q2184.29 464.75 2184.29 456.023 Q2184.29 447.829 2188.17 442.968 Q2192.06 438.084 2198.61 438.084 Q2200.37 438.084 2202.16 438.431 Q2203.96 438.778 2205.91 439.473 Z\" fill=\"#000000\" fill-rule=\"evenodd\" fill-opacity=\"1\" /><polyline clip-path=\"url(#clip120)\" style=\"stroke:#ed5d92; stroke-width:4; stroke-opacity:1; fill:none\" points=\"\n",
       "  1989.17,516.469 2131.95,516.469 \n",
       "  \"/>\n",
       "<path clip-path=\"url(#clip120)\" d=\"M 0 0 M2169.59 536.156 Q2167.78 540.786 2166.07 542.198 Q2164.36 543.61 2161.48 543.61 L2158.08 543.61 L2158.08 540.045 L2160.58 540.045 Q2162.34 540.045 2163.31 539.212 Q2164.29 538.378 2165.47 535.276 L2166.23 533.332 L2155.74 507.823 L2160.26 507.823 L2168.36 528.101 L2176.46 507.823 L2180.98 507.823 L2169.59 536.156 Z\" fill=\"#000000\" fill-rule=\"evenodd\" fill-opacity=\"1\" /><path clip-path=\"url(#clip120)\" d=\"M 0 0 M2184.86 499.189 L2207.09 499.189 L2207.09 501.179 L2194.54 533.749 L2189.66 533.749 L2201.46 503.124 L2184.86 503.124 L2184.86 499.189 Z\" fill=\"#000000\" fill-rule=\"evenodd\" fill-opacity=\"1\" /><polyline clip-path=\"url(#clip120)\" style=\"stroke:#c68125; stroke-width:4; stroke-opacity:1; fill:none\" points=\"\n",
       "  1989.17,576.949 2131.95,576.949 \n",
       "  \"/>\n",
       "<path clip-path=\"url(#clip120)\" d=\"M 0 0 M2169.59 596.636 Q2167.78 601.266 2166.07 602.678 Q2164.36 604.09 2161.48 604.09 L2158.08 604.09 L2158.08 600.525 L2160.58 600.525 Q2162.34 600.525 2163.31 599.692 Q2164.29 598.858 2165.47 595.756 L2166.23 593.812 L2155.74 568.303 L2160.26 568.303 L2168.36 588.581 L2176.46 568.303 L2180.98 568.303 L2169.59 596.636 Z\" fill=\"#000000\" fill-rule=\"evenodd\" fill-opacity=\"1\" /><path clip-path=\"url(#clip120)\" d=\"M 0 0 M2196.04 577.817 Q2192.71 577.817 2190.79 579.599 Q2188.89 581.381 2188.89 584.506 Q2188.89 587.631 2190.79 589.414 Q2192.71 591.196 2196.04 591.196 Q2199.38 591.196 2201.3 589.414 Q2203.22 587.608 2203.22 584.506 Q2203.22 581.381 2201.3 579.599 Q2199.4 577.817 2196.04 577.817 M2191.37 575.826 Q2188.36 575.085 2186.67 573.025 Q2185 570.965 2185 568.002 Q2185 563.858 2187.94 561.451 Q2190.91 559.044 2196.04 559.044 Q2201.21 559.044 2204.15 561.451 Q2207.09 563.858 2207.09 568.002 Q2207.09 570.965 2205.4 573.025 Q2203.73 575.085 2200.74 575.826 Q2204.12 576.613 2206 578.905 Q2207.9 581.196 2207.9 584.506 Q2207.9 589.53 2204.82 592.215 Q2201.76 594.9 2196.04 594.9 Q2190.33 594.9 2187.25 592.215 Q2184.19 589.53 2184.19 584.506 Q2184.19 581.196 2186.09 578.905 Q2187.99 576.613 2191.37 575.826 M2189.66 568.442 Q2189.66 571.127 2191.32 572.632 Q2193.01 574.136 2196.04 574.136 Q2199.05 574.136 2200.74 572.632 Q2202.46 571.127 2202.46 568.442 Q2202.46 565.757 2200.74 564.252 Q2199.05 562.747 2196.04 562.747 Q2193.01 562.747 2191.32 564.252 Q2189.66 565.757 2189.66 568.442 Z\" fill=\"#000000\" fill-rule=\"evenodd\" fill-opacity=\"1\" /><polyline clip-path=\"url(#clip120)\" style=\"stroke:#00a98d; stroke-width:4; stroke-opacity:1; fill:none\" points=\"\n",
       "  1989.17,637.429 2131.95,637.429 \n",
       "  \"/>\n",
       "<path clip-path=\"url(#clip120)\" d=\"M 0 0 M2169.59 657.116 Q2167.78 661.746 2166.07 663.158 Q2164.36 664.57 2161.48 664.57 L2158.08 664.57 L2158.08 661.005 L2160.58 661.005 Q2162.34 661.005 2163.31 660.172 Q2164.29 659.338 2165.47 656.236 L2166.23 654.292 L2155.74 628.783 L2160.26 628.783 L2168.36 649.061 L2176.46 628.783 L2180.98 628.783 L2169.59 657.116 Z\" fill=\"#000000\" fill-rule=\"evenodd\" fill-opacity=\"1\" /><path clip-path=\"url(#clip120)\" d=\"M 0 0 M2186.18 653.991 L2186.18 649.732 Q2187.94 650.565 2189.75 651.005 Q2191.55 651.445 2193.29 651.445 Q2197.92 651.445 2200.35 648.343 Q2202.8 645.218 2203.15 638.875 Q2201.81 640.866 2199.75 641.931 Q2197.69 642.996 2195.19 642.996 Q2190 642.996 2186.97 639.871 Q2183.96 636.723 2183.96 631.283 Q2183.96 625.959 2187.11 622.741 Q2190.26 619.524 2195.49 619.524 Q2201.48 619.524 2204.63 624.13 Q2207.8 628.713 2207.8 637.463 Q2207.8 645.635 2203.91 650.519 Q2200.05 655.38 2193.5 655.38 Q2191.74 655.38 2189.93 655.033 Q2188.13 654.685 2186.18 653.991 M2195.49 639.338 Q2198.64 639.338 2200.47 637.186 Q2202.32 635.033 2202.32 631.283 Q2202.32 627.556 2200.47 625.403 Q2198.64 623.227 2195.49 623.227 Q2192.34 623.227 2190.49 625.403 Q2188.66 627.556 2188.66 631.283 Q2188.66 635.033 2190.49 637.186 Q2192.34 639.338 2195.49 639.338 Z\" fill=\"#000000\" fill-rule=\"evenodd\" fill-opacity=\"1\" /><polyline clip-path=\"url(#clip120)\" style=\"stroke:#8e971d; stroke-width:4; stroke-opacity:1; fill:none\" points=\"\n",
       "  1989.17,697.909 2131.95,697.909 \n",
       "  \"/>\n",
       "<path clip-path=\"url(#clip120)\" d=\"M 0 0 M2169.59 717.596 Q2167.78 722.226 2166.07 723.638 Q2164.36 725.05 2161.48 725.05 L2158.08 725.05 L2158.08 721.485 L2160.58 721.485 Q2162.34 721.485 2163.31 720.652 Q2164.29 719.818 2165.47 716.716 L2166.23 714.772 L2155.74 689.263 L2160.26 689.263 L2168.36 709.541 L2176.46 689.263 L2180.98 689.263 L2169.59 717.596 Z\" fill=\"#000000\" fill-rule=\"evenodd\" fill-opacity=\"1\" /><path clip-path=\"url(#clip120)\" d=\"M 0 0 M2186.85 711.253 L2194.49 711.253 L2194.49 684.888 L2186.18 686.555 L2186.18 682.295 L2194.45 680.629 L2199.12 680.629 L2199.12 711.253 L2206.76 711.253 L2206.76 715.189 L2186.85 715.189 L2186.85 711.253 Z\" fill=\"#000000\" fill-rule=\"evenodd\" fill-opacity=\"1\" /><path clip-path=\"url(#clip120)\" d=\"M 0 0 M2221.83 683.707 Q2218.22 683.707 2216.39 687.272 Q2214.59 690.814 2214.59 697.943 Q2214.59 705.05 2216.39 708.615 Q2218.22 712.156 2221.83 712.156 Q2225.47 712.156 2227.27 708.615 Q2229.1 705.05 2229.1 697.943 Q2229.1 690.814 2227.27 687.272 Q2225.47 683.707 2221.83 683.707 M2221.83 680.004 Q2227.64 680.004 2230.7 684.61 Q2233.78 689.193 2233.78 697.943 Q2233.78 706.67 2230.7 711.277 Q2227.64 715.86 2221.83 715.86 Q2216.02 715.86 2212.94 711.277 Q2209.89 706.67 2209.89 697.943 Q2209.89 689.193 2212.94 684.61 Q2216.02 680.004 2221.83 680.004 Z\" fill=\"#000000\" fill-rule=\"evenodd\" fill-opacity=\"1\" /></svg>\n"
      ]
     },
     "execution_count": 12,
     "metadata": {},
     "output_type": "execute_result"
    }
   ],
   "source": [
    "xs=range(1,stop=50,length=10)\n",
    "ys=[errorabs([3.0,5.0,4.0],10) for T in xs]\n",
    "plot(xs,ys, xlabel=\"x\", ylabel=\"y\")"
   ]
  },
  {
   "cell_type": "code",
   "execution_count": 13,
   "metadata": {},
   "outputs": [
    {
     "data": {
      "image/svg+xml": [
       "<?xml version=\"1.0\" encoding=\"utf-8\"?>\n",
       "<svg xmlns=\"http://www.w3.org/2000/svg\" xmlns:xlink=\"http://www.w3.org/1999/xlink\" width=\"600\" height=\"400\" viewBox=\"0 0 2400 1600\">\n",
       "<defs>\n",
       "  <clipPath id=\"clip160\">\n",
       "    <rect x=\"0\" y=\"0\" width=\"2400\" height=\"1600\"/>\n",
       "  </clipPath>\n",
       "</defs>\n",
       "<path clip-path=\"url(#clip160)\" d=\"\n",
       "M0 1600 L2400 1600 L2400 0 L0 0  Z\n",
       "  \" fill=\"#ffffff\" fill-rule=\"evenodd\" fill-opacity=\"1\"/>\n",
       "<defs>\n",
       "  <clipPath id=\"clip161\">\n",
       "    <rect x=\"480\" y=\"0\" width=\"1681\" height=\"1600\"/>\n",
       "  </clipPath>\n",
       "</defs>\n",
       "<path clip-path=\"url(#clip160)\" d=\"\n",
       "M274.843 1423.18 L2352.76 1423.18 L2352.76 47.2441 L274.843 47.2441  Z\n",
       "  \" fill=\"#ffffff\" fill-rule=\"evenodd\" fill-opacity=\"1\"/>\n",
       "<defs>\n",
       "  <clipPath id=\"clip162\">\n",
       "    <rect x=\"274\" y=\"47\" width=\"2079\" height=\"1377\"/>\n",
       "  </clipPath>\n",
       "</defs>\n",
       "<polyline clip-path=\"url(#clip162)\" style=\"stroke:#000000; stroke-width:2; stroke-opacity:0.1; fill:none\" points=\"\n",
       "  293.646,1423.18 293.646,47.2441 \n",
       "  \"/>\n",
       "<polyline clip-path=\"url(#clip162)\" style=\"stroke:#000000; stroke-width:2; stroke-opacity:0.1; fill:none\" points=\"\n",
       "  693.706,1423.18 693.706,47.2441 \n",
       "  \"/>\n",
       "<polyline clip-path=\"url(#clip162)\" style=\"stroke:#000000; stroke-width:2; stroke-opacity:0.1; fill:none\" points=\"\n",
       "  1093.77,1423.18 1093.77,47.2441 \n",
       "  \"/>\n",
       "<polyline clip-path=\"url(#clip162)\" style=\"stroke:#000000; stroke-width:2; stroke-opacity:0.1; fill:none\" points=\"\n",
       "  1493.83,1423.18 1493.83,47.2441 \n",
       "  \"/>\n",
       "<polyline clip-path=\"url(#clip162)\" style=\"stroke:#000000; stroke-width:2; stroke-opacity:0.1; fill:none\" points=\"\n",
       "  1893.89,1423.18 1893.89,47.2441 \n",
       "  \"/>\n",
       "<polyline clip-path=\"url(#clip162)\" style=\"stroke:#000000; stroke-width:2; stroke-opacity:0.1; fill:none\" points=\"\n",
       "  2293.95,1423.18 2293.95,47.2441 \n",
       "  \"/>\n",
       "<polyline clip-path=\"url(#clip162)\" style=\"stroke:#000000; stroke-width:2; stroke-opacity:0.1; fill:none\" points=\"\n",
       "  274.843,1372.3 2352.76,1372.3 \n",
       "  \"/>\n",
       "<polyline clip-path=\"url(#clip162)\" style=\"stroke:#000000; stroke-width:2; stroke-opacity:0.1; fill:none\" points=\"\n",
       "  274.843,1068.87 2352.76,1068.87 \n",
       "  \"/>\n",
       "<polyline clip-path=\"url(#clip162)\" style=\"stroke:#000000; stroke-width:2; stroke-opacity:0.1; fill:none\" points=\"\n",
       "  274.843,765.436 2352.76,765.436 \n",
       "  \"/>\n",
       "<polyline clip-path=\"url(#clip162)\" style=\"stroke:#000000; stroke-width:2; stroke-opacity:0.1; fill:none\" points=\"\n",
       "  274.843,462.004 2352.76,462.004 \n",
       "  \"/>\n",
       "<polyline clip-path=\"url(#clip162)\" style=\"stroke:#000000; stroke-width:2; stroke-opacity:0.1; fill:none\" points=\"\n",
       "  274.843,158.573 2352.76,158.573 \n",
       "  \"/>\n",
       "<polyline clip-path=\"url(#clip160)\" style=\"stroke:#000000; stroke-width:4; stroke-opacity:1; fill:none\" points=\"\n",
       "  274.843,1423.18 2352.76,1423.18 \n",
       "  \"/>\n",
       "<polyline clip-path=\"url(#clip160)\" style=\"stroke:#000000; stroke-width:4; stroke-opacity:1; fill:none\" points=\"\n",
       "  274.843,1423.18 274.843,47.2441 \n",
       "  \"/>\n",
       "<polyline clip-path=\"url(#clip160)\" style=\"stroke:#000000; stroke-width:4; stroke-opacity:1; fill:none\" points=\"\n",
       "  293.646,1423.18 293.646,1406.67 \n",
       "  \"/>\n",
       "<polyline clip-path=\"url(#clip160)\" style=\"stroke:#000000; stroke-width:4; stroke-opacity:1; fill:none\" points=\"\n",
       "  693.706,1423.18 693.706,1406.67 \n",
       "  \"/>\n",
       "<polyline clip-path=\"url(#clip160)\" style=\"stroke:#000000; stroke-width:4; stroke-opacity:1; fill:none\" points=\"\n",
       "  1093.77,1423.18 1093.77,1406.67 \n",
       "  \"/>\n",
       "<polyline clip-path=\"url(#clip160)\" style=\"stroke:#000000; stroke-width:4; stroke-opacity:1; fill:none\" points=\"\n",
       "  1493.83,1423.18 1493.83,1406.67 \n",
       "  \"/>\n",
       "<polyline clip-path=\"url(#clip160)\" style=\"stroke:#000000; stroke-width:4; stroke-opacity:1; fill:none\" points=\"\n",
       "  1893.89,1423.18 1893.89,1406.67 \n",
       "  \"/>\n",
       "<polyline clip-path=\"url(#clip160)\" style=\"stroke:#000000; stroke-width:4; stroke-opacity:1; fill:none\" points=\"\n",
       "  2293.95,1423.18 2293.95,1406.67 \n",
       "  \"/>\n",
       "<polyline clip-path=\"url(#clip160)\" style=\"stroke:#000000; stroke-width:4; stroke-opacity:1; fill:none\" points=\"\n",
       "  274.843,1372.3 299.778,1372.3 \n",
       "  \"/>\n",
       "<polyline clip-path=\"url(#clip160)\" style=\"stroke:#000000; stroke-width:4; stroke-opacity:1; fill:none\" points=\"\n",
       "  274.843,1068.87 299.778,1068.87 \n",
       "  \"/>\n",
       "<polyline clip-path=\"url(#clip160)\" style=\"stroke:#000000; stroke-width:4; stroke-opacity:1; fill:none\" points=\"\n",
       "  274.843,765.436 299.778,765.436 \n",
       "  \"/>\n",
       "<polyline clip-path=\"url(#clip160)\" style=\"stroke:#000000; stroke-width:4; stroke-opacity:1; fill:none\" points=\"\n",
       "  274.843,462.004 299.778,462.004 \n",
       "  \"/>\n",
       "<polyline clip-path=\"url(#clip160)\" style=\"stroke:#000000; stroke-width:4; stroke-opacity:1; fill:none\" points=\"\n",
       "  274.843,158.573 299.778,158.573 \n",
       "  \"/>\n",
       "<path clip-path=\"url(#clip160)\" d=\"M 0 0 M293.646 1445.17 Q290.035 1445.17 288.206 1448.74 Q286.4 1452.28 286.4 1459.41 Q286.4 1466.51 288.206 1470.08 Q290.035 1473.62 293.646 1473.62 Q297.28 1473.62 299.085 1470.08 Q300.914 1466.51 300.914 1459.41 Q300.914 1452.28 299.085 1448.74 Q297.28 1445.17 293.646 1445.17 M293.646 1441.47 Q299.456 1441.47 302.511 1446.07 Q305.59 1450.66 305.59 1459.41 Q305.59 1468.13 302.511 1472.74 Q299.456 1477.32 293.646 1477.32 Q287.836 1477.32 284.757 1472.74 Q281.701 1468.13 281.701 1459.41 Q281.701 1450.66 284.757 1446.07 Q287.836 1441.47 293.646 1441.47 Z\" fill=\"#000000\" fill-rule=\"evenodd\" fill-opacity=\"1\" /><path clip-path=\"url(#clip160)\" d=\"M 0 0 M670.581 1472.72 L678.22 1472.72 L678.22 1446.35 L669.91 1448.02 L669.91 1443.76 L678.174 1442.09 L682.85 1442.09 L682.85 1472.72 L690.488 1472.72 L690.488 1476.65 L670.581 1476.65 L670.581 1472.72 Z\" fill=\"#000000\" fill-rule=\"evenodd\" fill-opacity=\"1\" /><path clip-path=\"url(#clip160)\" d=\"M 0 0 M705.558 1445.17 Q701.947 1445.17 700.118 1448.74 Q698.312 1452.28 698.312 1459.41 Q698.312 1466.51 700.118 1470.08 Q701.947 1473.62 705.558 1473.62 Q709.192 1473.62 710.998 1470.08 Q712.826 1466.51 712.826 1459.41 Q712.826 1452.28 710.998 1448.74 Q709.192 1445.17 705.558 1445.17 M705.558 1441.47 Q711.368 1441.47 714.423 1446.07 Q717.502 1450.66 717.502 1459.41 Q717.502 1468.13 714.423 1472.74 Q711.368 1477.32 705.558 1477.32 Q699.748 1477.32 696.669 1472.74 Q693.613 1468.13 693.613 1459.41 Q693.613 1450.66 696.669 1446.07 Q699.748 1441.47 705.558 1441.47 Z\" fill=\"#000000\" fill-rule=\"evenodd\" fill-opacity=\"1\" /><path clip-path=\"url(#clip160)\" d=\"M 0 0 M1074.91 1472.72 L1091.23 1472.72 L1091.23 1476.65 L1069.29 1476.65 L1069.29 1472.72 Q1071.95 1469.96 1076.53 1465.33 Q1081.14 1460.68 1082.32 1459.34 Q1084.56 1456.81 1085.44 1455.08 Q1086.35 1453.32 1086.35 1451.63 Q1086.35 1448.87 1084.4 1447.14 Q1082.48 1445.4 1079.38 1445.4 Q1077.18 1445.4 1074.73 1446.17 Q1072.3 1446.93 1069.52 1448.48 L1069.52 1443.76 Q1072.34 1442.62 1074.8 1442.05 Q1077.25 1441.47 1079.29 1441.47 Q1084.66 1441.47 1087.85 1444.15 Q1091.05 1446.84 1091.05 1451.33 Q1091.05 1453.46 1090.24 1455.38 Q1089.45 1457.28 1087.34 1459.87 Q1086.76 1460.54 1083.66 1463.76 Q1080.56 1466.95 1074.91 1472.72 Z\" fill=\"#000000\" fill-rule=\"evenodd\" fill-opacity=\"1\" /><path clip-path=\"url(#clip160)\" d=\"M 0 0 M1106.3 1445.17 Q1102.69 1445.17 1100.86 1448.74 Q1099.06 1452.28 1099.06 1459.41 Q1099.06 1466.51 1100.86 1470.08 Q1102.69 1473.62 1106.3 1473.62 Q1109.94 1473.62 1111.74 1470.08 Q1113.57 1466.51 1113.57 1459.41 Q1113.57 1452.28 1111.74 1448.74 Q1109.94 1445.17 1106.3 1445.17 M1106.3 1441.47 Q1112.11 1441.47 1115.17 1446.07 Q1118.25 1450.66 1118.25 1459.41 Q1118.25 1468.13 1115.17 1472.74 Q1112.11 1477.32 1106.3 1477.32 Q1100.49 1477.32 1097.41 1472.74 Q1094.36 1468.13 1094.36 1459.41 Q1094.36 1450.66 1097.41 1446.07 Q1100.49 1441.47 1106.3 1441.47 Z\" fill=\"#000000\" fill-rule=\"evenodd\" fill-opacity=\"1\" /><path clip-path=\"url(#clip160)\" d=\"M 0 0 M1484.57 1458.02 Q1487.92 1458.74 1489.8 1461 Q1491.7 1463.27 1491.7 1466.61 Q1491.7 1471.72 1488.18 1474.52 Q1484.66 1477.32 1478.18 1477.32 Q1476 1477.32 1473.69 1476.88 Q1471.4 1476.47 1468.94 1475.61 L1468.94 1471.1 Q1470.89 1472.23 1473.2 1472.81 Q1475.52 1473.39 1478.04 1473.39 Q1482.44 1473.39 1484.73 1471.65 Q1487.04 1469.92 1487.04 1466.61 Q1487.04 1463.55 1484.89 1461.84 Q1482.76 1460.1 1478.94 1460.1 L1474.91 1460.1 L1474.91 1456.26 L1479.13 1456.26 Q1482.58 1456.26 1484.41 1454.89 Q1486.23 1453.5 1486.23 1450.91 Q1486.23 1448.25 1484.34 1446.84 Q1482.46 1445.4 1478.94 1445.4 Q1477.02 1445.4 1474.82 1445.82 Q1472.62 1446.24 1469.98 1447.11 L1469.98 1442.95 Q1472.65 1442.21 1474.96 1441.84 Q1477.3 1441.47 1479.36 1441.47 Q1484.68 1441.47 1487.78 1443.9 Q1490.89 1446.3 1490.89 1450.43 Q1490.89 1453.3 1489.24 1455.29 Q1487.6 1457.25 1484.57 1458.02 Z\" fill=\"#000000\" fill-rule=\"evenodd\" fill-opacity=\"1\" /><path clip-path=\"url(#clip160)\" d=\"M 0 0 M1506.77 1445.17 Q1503.16 1445.17 1501.33 1448.74 Q1499.52 1452.28 1499.52 1459.41 Q1499.52 1466.51 1501.33 1470.08 Q1503.16 1473.62 1506.77 1473.62 Q1510.4 1473.62 1512.21 1470.08 Q1514.03 1466.51 1514.03 1459.41 Q1514.03 1452.28 1512.21 1448.74 Q1510.4 1445.17 1506.77 1445.17 M1506.77 1441.47 Q1512.58 1441.47 1515.63 1446.07 Q1518.71 1450.66 1518.71 1459.41 Q1518.71 1468.13 1515.63 1472.74 Q1512.58 1477.32 1506.77 1477.32 Q1500.96 1477.32 1497.88 1472.74 Q1494.82 1468.13 1494.82 1459.41 Q1494.82 1450.66 1497.88 1446.07 Q1500.96 1441.47 1506.77 1441.47 Z\" fill=\"#000000\" fill-rule=\"evenodd\" fill-opacity=\"1\" /><path clip-path=\"url(#clip160)\" d=\"M 0 0 M1883.39 1446.17 L1871.58 1464.61 L1883.39 1464.61 L1883.39 1446.17 M1882.16 1442.09 L1888.04 1442.09 L1888.04 1464.61 L1892.97 1464.61 L1892.97 1468.5 L1888.04 1468.5 L1888.04 1476.65 L1883.39 1476.65 L1883.39 1468.5 L1867.79 1468.5 L1867.79 1463.99 L1882.16 1442.09 Z\" fill=\"#000000\" fill-rule=\"evenodd\" fill-opacity=\"1\" /><path clip-path=\"url(#clip160)\" d=\"M 0 0 M1908.04 1445.17 Q1904.43 1445.17 1902.6 1448.74 Q1900.8 1452.28 1900.8 1459.41 Q1900.8 1466.51 1902.6 1470.08 Q1904.43 1473.62 1908.04 1473.62 Q1911.68 1473.62 1913.48 1470.08 Q1915.31 1466.51 1915.31 1459.41 Q1915.31 1452.28 1913.48 1448.74 Q1911.68 1445.17 1908.04 1445.17 M1908.04 1441.47 Q1913.85 1441.47 1916.91 1446.07 Q1919.99 1450.66 1919.99 1459.41 Q1919.99 1468.13 1916.91 1472.74 Q1913.85 1477.32 1908.04 1477.32 Q1902.23 1477.32 1899.15 1472.74 Q1896.1 1468.13 1896.1 1459.41 Q1896.1 1450.66 1899.15 1446.07 Q1902.23 1441.47 1908.04 1441.47 Z\" fill=\"#000000\" fill-rule=\"evenodd\" fill-opacity=\"1\" /><path clip-path=\"url(#clip160)\" d=\"M 0 0 M2270.72 1442.09 L2289.07 1442.09 L2289.07 1446.03 L2275 1446.03 L2275 1454.5 Q2276.02 1454.15 2277.04 1453.99 Q2278.06 1453.8 2279.07 1453.8 Q2284.86 1453.8 2288.24 1456.98 Q2291.62 1460.15 2291.62 1465.56 Q2291.62 1471.14 2288.15 1474.24 Q2284.68 1477.32 2278.36 1477.32 Q2276.18 1477.32 2273.91 1476.95 Q2271.67 1476.58 2269.26 1475.84 L2269.26 1471.14 Q2271.34 1472.28 2273.57 1472.83 Q2275.79 1473.39 2278.26 1473.39 Q2282.27 1473.39 2284.61 1471.28 Q2286.94 1469.18 2286.94 1465.56 Q2286.94 1461.95 2284.61 1459.85 Q2282.27 1457.74 2278.26 1457.74 Q2276.39 1457.74 2274.51 1458.16 Q2272.66 1458.57 2270.72 1459.45 L2270.72 1442.09 Z\" fill=\"#000000\" fill-rule=\"evenodd\" fill-opacity=\"1\" /><path clip-path=\"url(#clip160)\" d=\"M 0 0 M2306.69 1445.17 Q2303.08 1445.17 2301.25 1448.74 Q2299.44 1452.28 2299.44 1459.41 Q2299.44 1466.51 2301.25 1470.08 Q2303.08 1473.62 2306.69 1473.62 Q2310.32 1473.62 2312.13 1470.08 Q2313.96 1466.51 2313.96 1459.41 Q2313.96 1452.28 2312.13 1448.74 Q2310.32 1445.17 2306.69 1445.17 M2306.69 1441.47 Q2312.5 1441.47 2315.56 1446.07 Q2318.63 1450.66 2318.63 1459.41 Q2318.63 1468.13 2315.56 1472.74 Q2312.5 1477.32 2306.69 1477.32 Q2300.88 1477.32 2297.8 1472.74 Q2294.75 1468.13 2294.75 1459.41 Q2294.75 1450.66 2297.8 1446.07 Q2300.88 1441.47 2306.69 1441.47 Z\" fill=\"#000000\" fill-rule=\"evenodd\" fill-opacity=\"1\" /><path clip-path=\"url(#clip160)\" d=\"M 0 0 M159.347 1392.09 L166.986 1392.09 L166.986 1365.73 L158.676 1367.39 L158.676 1363.13 L166.94 1361.47 L171.616 1361.47 L171.616 1392.09 L179.255 1392.09 L179.255 1396.03 L159.347 1396.03 L159.347 1392.09 Z\" fill=\"#000000\" fill-rule=\"evenodd\" fill-opacity=\"1\" /><path clip-path=\"url(#clip160)\" d=\"M 0 0 M194.324 1364.55 Q190.713 1364.55 188.884 1368.11 Q187.079 1371.65 187.079 1378.78 Q187.079 1385.89 188.884 1389.45 Q190.713 1392.99 194.324 1392.99 Q197.958 1392.99 199.764 1389.45 Q201.593 1385.89 201.593 1378.78 Q201.593 1371.65 199.764 1368.11 Q197.958 1364.55 194.324 1364.55 M194.324 1360.84 Q200.134 1360.84 203.19 1365.45 Q206.268 1370.03 206.268 1378.78 Q206.268 1387.51 203.19 1392.12 Q200.134 1396.7 194.324 1396.7 Q188.514 1396.7 185.435 1392.12 Q182.38 1387.51 182.38 1378.78 Q182.38 1370.03 185.435 1365.45 Q188.514 1360.84 194.324 1360.84 Z\" fill=\"#000000\" fill-rule=\"evenodd\" fill-opacity=\"1\" /><path clip-path=\"url(#clip160)\" d=\"M 0 0 M206.268 1356.52 L216.406 1356.52 L216.406 1359.61 L206.268 1359.61 L206.268 1356.52 Z\" fill=\"#000000\" fill-rule=\"evenodd\" fill-opacity=\"1\" /><path clip-path=\"url(#clip160)\" d=\"M 0 0 M243.056 1343.85 L233.464 1358.84 L243.056 1358.84 L243.056 1343.85 M242.06 1340.54 L246.837 1340.54 L246.837 1358.84 L250.843 1358.84 L250.843 1362 L246.837 1362 L246.837 1368.62 L243.056 1368.62 L243.056 1362 L230.38 1362 L230.38 1358.33 L242.06 1340.54 Z\" fill=\"#000000\" fill-rule=\"evenodd\" fill-opacity=\"1\" /><path clip-path=\"url(#clip160)\" d=\"M 0 0 M161.322 1088.66 L168.961 1088.66 L168.961 1062.29 L160.651 1063.96 L160.651 1059.7 L168.915 1058.04 L173.591 1058.04 L173.591 1088.66 L181.229 1088.66 L181.229 1092.6 L161.322 1092.6 L161.322 1088.66 Z\" fill=\"#000000\" fill-rule=\"evenodd\" fill-opacity=\"1\" /><path clip-path=\"url(#clip160)\" d=\"M 0 0 M196.299 1061.11 Q192.688 1061.11 190.859 1064.68 Q189.054 1068.22 189.054 1075.35 Q189.054 1082.46 190.859 1086.02 Q192.688 1089.56 196.299 1089.56 Q199.933 1089.56 201.739 1086.02 Q203.567 1082.46 203.567 1075.35 Q203.567 1068.22 201.739 1064.68 Q199.933 1061.11 196.299 1061.11 M196.299 1057.41 Q202.109 1057.41 205.165 1062.02 Q208.243 1066.6 208.243 1075.35 Q208.243 1084.08 205.165 1088.68 Q202.109 1093.27 196.299 1093.27 Q190.489 1093.27 187.41 1088.68 Q184.354 1084.08 184.354 1075.35 Q184.354 1066.6 187.41 1062.02 Q190.489 1057.41 196.299 1057.41 Z\" fill=\"#000000\" fill-rule=\"evenodd\" fill-opacity=\"1\" /><path clip-path=\"url(#clip160)\" d=\"M 0 0 M208.243 1053.09 L218.381 1053.09 L218.381 1056.18 L208.243 1056.18 L208.243 1053.09 Z\" fill=\"#000000\" fill-rule=\"evenodd\" fill-opacity=\"1\" /><path clip-path=\"url(#clip160)\" d=\"M 0 0 M245.05 1050.04 Q247.777 1050.63 249.301 1052.47 Q250.843 1054.31 250.843 1057.02 Q250.843 1061.18 247.984 1063.45 Q245.125 1065.73 239.859 1065.73 Q238.091 1065.73 236.21 1065.37 Q234.348 1065.03 232.355 1064.34 L232.355 1060.67 Q233.935 1061.59 235.815 1062.06 Q237.696 1062.53 239.746 1062.53 Q243.32 1062.53 245.182 1061.12 Q247.062 1059.71 247.062 1057.02 Q247.062 1054.54 245.313 1053.15 Q243.583 1051.74 240.48 1051.74 L237.207 1051.74 L237.207 1048.62 L240.63 1048.62 Q243.433 1048.62 244.918 1047.51 Q246.404 1046.38 246.404 1044.27 Q246.404 1042.11 244.862 1040.96 Q243.339 1039.79 240.48 1039.79 Q238.919 1039.79 237.132 1040.13 Q235.345 1040.47 233.201 1041.19 L233.201 1037.8 Q235.364 1037.2 237.245 1036.9 Q239.144 1036.6 240.818 1036.6 Q245.144 1036.6 247.664 1038.57 Q250.185 1040.53 250.185 1043.88 Q250.185 1046.21 248.849 1047.83 Q247.514 1049.42 245.05 1050.04 Z\" fill=\"#000000\" fill-rule=\"evenodd\" fill-opacity=\"1\" /><path clip-path=\"url(#clip160)\" d=\"M 0 0 M161.98 785.228 L169.619 785.228 L169.619 758.863 L161.309 760.53 L161.309 756.27 L169.573 754.604 L174.249 754.604 L174.249 785.228 L181.888 785.228 L181.888 789.164 L161.98 789.164 L161.98 785.228 Z\" fill=\"#000000\" fill-rule=\"evenodd\" fill-opacity=\"1\" /><path clip-path=\"url(#clip160)\" d=\"M 0 0 M196.957 757.682 Q193.346 757.682 191.517 761.247 Q189.712 764.789 189.712 771.918 Q189.712 779.025 191.517 782.59 Q193.346 786.131 196.957 786.131 Q200.591 786.131 202.397 782.59 Q204.226 779.025 204.226 771.918 Q204.226 764.789 202.397 761.247 Q200.591 757.682 196.957 757.682 M196.957 753.979 Q202.767 753.979 205.823 758.585 Q208.901 763.168 208.901 771.918 Q208.901 780.645 205.823 785.252 Q202.767 789.835 196.957 789.835 Q191.147 789.835 188.068 785.252 Q185.013 780.645 185.013 771.918 Q185.013 763.168 188.068 758.585 Q191.147 753.979 196.957 753.979 Z\" fill=\"#000000\" fill-rule=\"evenodd\" fill-opacity=\"1\" /><path clip-path=\"url(#clip160)\" d=\"M 0 0 M208.901 749.66 L219.039 749.66 L219.039 752.744 L208.901 752.744 L208.901 749.66 Z\" fill=\"#000000\" fill-rule=\"evenodd\" fill-opacity=\"1\" /><path clip-path=\"url(#clip160)\" d=\"M 0 0 M237.583 758.556 L250.843 758.556 L250.843 761.753 L233.013 761.753 L233.013 758.556 Q235.176 756.318 238.9 752.556 Q242.643 748.776 243.602 747.685 Q245.426 745.635 246.141 744.224 Q246.874 742.795 246.874 741.422 Q246.874 739.184 245.295 737.773 Q243.733 736.363 241.213 736.363 Q239.427 736.363 237.433 736.983 Q235.458 737.604 233.201 738.864 L233.201 735.027 Q235.496 734.106 237.489 733.636 Q239.483 733.165 241.138 733.165 Q245.501 733.165 248.097 735.347 Q250.692 737.529 250.692 741.178 Q250.692 742.908 250.034 744.469 Q249.395 746.011 247.683 748.118 Q247.213 748.663 244.693 751.277 Q242.172 753.873 237.583 758.556 Z\" fill=\"#000000\" fill-rule=\"evenodd\" fill-opacity=\"1\" /><path clip-path=\"url(#clip160)\" d=\"M 0 0 M163.09 481.797 L170.729 481.797 L170.729 455.431 L162.419 457.098 L162.419 452.839 L170.683 451.172 L175.359 451.172 L175.359 481.797 L182.997 481.797 L182.997 485.732 L163.09 485.732 L163.09 481.797 Z\" fill=\"#000000\" fill-rule=\"evenodd\" fill-opacity=\"1\" /><path clip-path=\"url(#clip160)\" d=\"M 0 0 M198.067 454.251 Q194.456 454.251 192.627 457.815 Q190.821 461.357 190.821 468.487 Q190.821 475.593 192.627 479.158 Q194.456 482.7 198.067 482.7 Q201.701 482.7 203.507 479.158 Q205.335 475.593 205.335 468.487 Q205.335 461.357 203.507 457.815 Q201.701 454.251 198.067 454.251 M198.067 450.547 Q203.877 450.547 206.932 455.153 Q210.011 459.737 210.011 468.487 Q210.011 477.213 206.932 481.82 Q203.877 486.403 198.067 486.403 Q192.257 486.403 189.178 481.82 Q186.122 477.213 186.122 468.487 Q186.122 459.737 189.178 455.153 Q192.257 450.547 198.067 450.547 Z\" fill=\"#000000\" fill-rule=\"evenodd\" fill-opacity=\"1\" /><path clip-path=\"url(#clip160)\" d=\"M 0 0 M210.011 446.228 L220.149 446.228 L220.149 449.313 L210.011 449.313 L210.011 446.228 Z\" fill=\"#000000\" fill-rule=\"evenodd\" fill-opacity=\"1\" /><path clip-path=\"url(#clip160)\" d=\"M 0 0 M234.668 455.124 L240.875 455.124 L240.875 433.702 L234.123 435.056 L234.123 431.596 L240.837 430.241 L244.636 430.241 L244.636 455.124 L250.843 455.124 L250.843 458.321 L234.668 458.321 L234.668 455.124 Z\" fill=\"#000000\" fill-rule=\"evenodd\" fill-opacity=\"1\" /><path clip-path=\"url(#clip160)\" d=\"M 0 0 M184.512 178.365 L192.151 178.365 L192.151 151.999 L183.841 153.666 L183.841 149.407 L192.105 147.74 L196.781 147.74 L196.781 178.365 L204.419 178.365 L204.419 182.3 L184.512 182.3 L184.512 178.365 Z\" fill=\"#000000\" fill-rule=\"evenodd\" fill-opacity=\"1\" /><path clip-path=\"url(#clip160)\" d=\"M 0 0 M219.489 150.819 Q215.878 150.819 214.049 154.384 Q212.243 157.925 212.243 165.055 Q212.243 172.161 214.049 175.726 Q215.878 179.268 219.489 179.268 Q223.123 179.268 224.929 175.726 Q226.757 172.161 226.757 165.055 Q226.757 157.925 224.929 154.384 Q223.123 150.819 219.489 150.819 M219.489 147.115 Q225.299 147.115 228.355 151.722 Q231.433 156.305 231.433 165.055 Q231.433 173.782 228.355 178.388 Q225.299 182.971 219.489 182.971 Q213.679 182.971 210.6 178.388 Q207.544 173.782 207.544 165.055 Q207.544 156.305 210.6 151.722 Q213.679 147.115 219.489 147.115 Z\" fill=\"#000000\" fill-rule=\"evenodd\" fill-opacity=\"1\" /><path clip-path=\"url(#clip160)\" d=\"M 0 0 M241.138 129.311 Q238.204 129.311 236.718 132.208 Q235.251 135.085 235.251 140.878 Q235.251 146.652 236.718 149.548 Q238.204 152.426 241.138 152.426 Q244.091 152.426 245.558 149.548 Q247.044 146.652 247.044 140.878 Q247.044 135.085 245.558 132.208 Q244.091 129.311 241.138 129.311 M241.138 126.302 Q245.859 126.302 248.341 130.045 Q250.843 133.769 250.843 140.878 Q250.843 147.968 248.341 151.711 Q245.859 155.435 241.138 155.435 Q236.417 155.435 233.916 151.711 Q231.433 147.968 231.433 140.878 Q231.433 133.769 233.916 130.045 Q236.417 126.302 241.138 126.302 Z\" fill=\"#000000\" fill-rule=\"evenodd\" fill-opacity=\"1\" /><path clip-path=\"url(#clip160)\" d=\"M 0 0 M1330.41 1520.4 L1317.52 1537.74 L1331.08 1556.04 L1324.18 1556.04 L1313.8 1542.04 L1303.42 1556.04 L1296.52 1556.04 L1310.36 1537.39 L1297.69 1520.4 L1304.6 1520.4 L1314.05 1533.1 L1323.51 1520.4 L1330.41 1520.4 Z\" fill=\"#000000\" fill-rule=\"evenodd\" fill-opacity=\"1\" /><path clip-path=\"url(#clip160)\" d=\"M 0 0 M91.3143 733.525 Q97.68 736.008 99.6216 738.363 Q101.563 740.718 101.563 744.665 L101.563 749.344 L96.6615 749.344 L96.6615 745.906 Q96.6615 743.487 95.5157 742.151 Q94.3699 740.814 90.1048 739.191 L87.4312 738.14 L52.3562 752.559 L52.3562 746.352 L80.238 735.212 L52.3562 724.072 L52.3562 717.865 L91.3143 733.525 Z\" fill=\"#000000\" fill-rule=\"evenodd\" fill-opacity=\"1\" /><polyline clip-path=\"url(#clip162)\" style=\"stroke:#009af9; stroke-width:4; stroke-opacity:1; fill:none\" points=\"\n",
       "  333.652,86.1857 551.462,214.085 769.273,395.257 987.083,518.87 1204.89,646.77 1422.7,827.941 1640.52,951.554 1858.33,1079.45 2076.14,1260.63 2293.95,1384.24 \n",
       "  \n",
       "  \"/>\n",
       "<polyline clip-path=\"url(#clip162)\" style=\"stroke:#e26f46; stroke-width:4; stroke-opacity:1; fill:none\" points=\"\n",
       "  333.652,86.1857 551.462,214.085 769.273,395.257 987.083,518.87 1204.89,646.77 1422.7,827.941 1640.52,951.554 1858.33,1079.45 2076.14,1260.63 2293.95,1384.24 \n",
       "  \n",
       "  \"/>\n",
       "<polyline clip-path=\"url(#clip162)\" style=\"stroke:#3da44d; stroke-width:4; stroke-opacity:1; fill:none\" points=\"\n",
       "  333.652,86.1857 551.462,214.085 769.273,395.257 987.083,518.87 1204.89,646.77 1422.7,827.941 1640.52,951.554 1858.33,1079.45 2076.14,1260.63 2293.95,1384.24 \n",
       "  \n",
       "  \"/>\n",
       "<polyline clip-path=\"url(#clip162)\" style=\"stroke:#c271d2; stroke-width:4; stroke-opacity:1; fill:none\" points=\"\n",
       "  333.652,86.1857 551.462,214.085 769.273,395.257 987.083,518.87 1204.89,646.77 1422.7,827.941 1640.52,951.554 1858.33,1079.45 2076.14,1260.63 2293.95,1384.24 \n",
       "  \n",
       "  \"/>\n",
       "<polyline clip-path=\"url(#clip162)\" style=\"stroke:#ac8d18; stroke-width:4; stroke-opacity:1; fill:none\" points=\"\n",
       "  333.652,86.1857 551.462,214.085 769.273,395.257 987.083,518.87 1204.89,646.77 1422.7,827.941 1640.52,951.554 1858.33,1079.45 2076.14,1260.63 2293.95,1384.24 \n",
       "  \n",
       "  \"/>\n",
       "<polyline clip-path=\"url(#clip162)\" style=\"stroke:#00a9ad; stroke-width:4; stroke-opacity:1; fill:none\" points=\"\n",
       "  333.652,86.1857 551.462,214.085 769.273,395.257 987.083,518.87 1204.89,646.77 1422.7,827.941 1640.52,951.554 1858.33,1079.45 2076.14,1260.63 2293.95,1384.24 \n",
       "  \n",
       "  \"/>\n",
       "<polyline clip-path=\"url(#clip162)\" style=\"stroke:#ed5d92; stroke-width:4; stroke-opacity:1; fill:none\" points=\"\n",
       "  333.652,86.1857 551.462,214.085 769.273,395.257 987.083,518.87 1204.89,646.77 1422.7,827.941 1640.52,951.554 1858.33,1079.45 2076.14,1260.63 2293.95,1384.24 \n",
       "  \n",
       "  \"/>\n",
       "<polyline clip-path=\"url(#clip162)\" style=\"stroke:#c68125; stroke-width:4; stroke-opacity:1; fill:none\" points=\"\n",
       "  333.652,86.1857 551.462,214.085 769.273,395.257 987.083,518.87 1204.89,646.77 1422.7,827.941 1640.52,951.554 1858.33,1079.45 2076.14,1260.63 2293.95,1384.24 \n",
       "  \n",
       "  \"/>\n",
       "<polyline clip-path=\"url(#clip162)\" style=\"stroke:#00a98d; stroke-width:4; stroke-opacity:1; fill:none\" points=\"\n",
       "  333.652,86.1857 551.462,214.085 769.273,395.257 987.083,518.87 1204.89,646.77 1422.7,827.941 1640.52,951.554 1858.33,1079.45 2076.14,1260.63 2293.95,1384.24 \n",
       "  \n",
       "  \"/>\n",
       "<polyline clip-path=\"url(#clip162)\" style=\"stroke:#8e971d; stroke-width:4; stroke-opacity:1; fill:none\" points=\"\n",
       "  333.652,86.1857 551.462,214.085 769.273,395.257 987.083,518.87 1204.89,646.77 1422.7,827.941 1640.52,951.554 1858.33,1079.45 2076.14,1260.63 2293.95,1384.24 \n",
       "  \n",
       "  \"/>\n",
       "<path clip-path=\"url(#clip160)\" d=\"\n",
       "M1974.58 758.389 L2283.49 758.389 L2283.49 93.1086 L1974.58 93.1086  Z\n",
       "  \" fill=\"#ffffff\" fill-rule=\"evenodd\" fill-opacity=\"1\"/>\n",
       "<polyline clip-path=\"url(#clip160)\" style=\"stroke:#000000; stroke-width:4; stroke-opacity:1; fill:none\" points=\"\n",
       "  1974.58,758.389 2283.49,758.389 2283.49,93.1086 1974.58,93.1086 1974.58,758.389 \n",
       "  \"/>\n",
       "<polyline clip-path=\"url(#clip160)\" style=\"stroke:#009af9; stroke-width:4; stroke-opacity:1; fill:none\" points=\"\n",
       "  1997.67,153.589 2136.2,153.589 \n",
       "  \"/>\n",
       "<path clip-path=\"url(#clip160)\" d=\"M 0 0 M2173.13 173.276 Q2171.32 177.906 2169.61 179.318 Q2167.9 180.73 2165.03 180.73 L2161.62 180.73 L2161.62 177.165 L2164.12 177.165 Q2165.88 177.165 2166.85 176.332 Q2167.83 175.498 2169.01 172.396 L2169.77 170.452 L2159.28 144.943 L2163.8 144.943 L2171.9 165.221 L2180 144.943 L2184.52 144.943 L2173.13 173.276 Z\" fill=\"#000000\" fill-rule=\"evenodd\" fill-opacity=\"1\" /><path clip-path=\"url(#clip160)\" d=\"M 0 0 M2190.4 166.933 L2198.03 166.933 L2198.03 140.568 L2189.72 142.235 L2189.72 137.975 L2197.99 136.309 L2202.66 136.309 L2202.66 166.933 L2210.3 166.933 L2210.3 170.869 L2190.4 170.869 L2190.4 166.933 Z\" fill=\"#000000\" fill-rule=\"evenodd\" fill-opacity=\"1\" /><polyline clip-path=\"url(#clip160)\" style=\"stroke:#e26f46; stroke-width:4; stroke-opacity:1; fill:none\" points=\"\n",
       "  1997.67,214.069 2136.2,214.069 \n",
       "  \"/>\n",
       "<path clip-path=\"url(#clip160)\" d=\"M 0 0 M2173.13 233.756 Q2171.32 238.386 2169.61 239.798 Q2167.9 241.21 2165.03 241.21 L2161.62 241.21 L2161.62 237.645 L2164.12 237.645 Q2165.88 237.645 2166.85 236.812 Q2167.83 235.978 2169.01 232.876 L2169.77 230.932 L2159.28 205.423 L2163.8 205.423 L2171.9 225.701 L2180 205.423 L2184.52 205.423 L2173.13 233.756 Z\" fill=\"#000000\" fill-rule=\"evenodd\" fill-opacity=\"1\" /><path clip-path=\"url(#clip160)\" d=\"M 0 0 M2193.61 227.413 L2209.93 227.413 L2209.93 231.349 L2187.99 231.349 L2187.99 227.413 Q2190.65 224.659 2195.23 220.029 Q2199.84 215.376 2201.02 214.034 Q2203.27 211.511 2204.15 209.775 Q2205.05 208.015 2205.05 206.326 Q2205.05 203.571 2203.1 201.835 Q2201.18 200.099 2198.08 200.099 Q2195.88 200.099 2193.43 200.863 Q2191 201.627 2188.22 203.177 L2188.22 198.455 Q2191.04 197.321 2193.5 196.742 Q2195.95 196.164 2197.99 196.164 Q2203.36 196.164 2206.55 198.849 Q2209.75 201.534 2209.75 206.025 Q2209.75 208.154 2208.94 210.076 Q2208.15 211.974 2206.04 214.566 Q2205.46 215.238 2202.36 218.455 Q2199.26 221.65 2193.61 227.413 Z\" fill=\"#000000\" fill-rule=\"evenodd\" fill-opacity=\"1\" /><polyline clip-path=\"url(#clip160)\" style=\"stroke:#3da44d; stroke-width:4; stroke-opacity:1; fill:none\" points=\"\n",
       "  1997.67,274.549 2136.2,274.549 \n",
       "  \"/>\n",
       "<path clip-path=\"url(#clip160)\" d=\"M 0 0 M2173.13 294.236 Q2171.32 298.866 2169.61 300.278 Q2167.9 301.69 2165.03 301.69 L2161.62 301.69 L2161.62 298.125 L2164.12 298.125 Q2165.88 298.125 2166.85 297.292 Q2167.83 296.458 2169.01 293.356 L2169.77 291.412 L2159.28 265.903 L2163.8 265.903 L2171.9 286.181 L2180 265.903 L2184.52 265.903 L2173.13 294.236 Z\" fill=\"#000000\" fill-rule=\"evenodd\" fill-opacity=\"1\" /><path clip-path=\"url(#clip160)\" d=\"M 0 0 M2203.75 273.194 Q2207.11 273.912 2208.98 276.181 Q2210.88 278.449 2210.88 281.782 Q2210.88 286.898 2207.36 289.699 Q2203.84 292.5 2197.36 292.5 Q2195.19 292.5 2192.87 292.06 Q2190.58 291.643 2188.13 290.787 L2188.13 286.273 Q2190.07 287.407 2192.39 287.986 Q2194.7 288.565 2197.22 288.565 Q2201.62 288.565 2203.91 286.829 Q2206.23 285.093 2206.23 281.782 Q2206.23 278.727 2204.08 277.014 Q2201.95 275.278 2198.13 275.278 L2194.1 275.278 L2194.1 271.435 L2198.31 271.435 Q2201.76 271.435 2203.59 270.069 Q2205.42 268.681 2205.42 266.088 Q2205.42 263.426 2203.52 262.014 Q2201.65 260.579 2198.13 260.579 Q2196.21 260.579 2194.01 260.995 Q2191.81 261.412 2189.17 262.292 L2189.17 258.125 Q2191.83 257.384 2194.15 257.014 Q2196.48 256.644 2198.54 256.644 Q2203.87 256.644 2206.97 259.074 Q2210.07 261.482 2210.07 265.602 Q2210.07 268.472 2208.43 270.463 Q2206.78 272.431 2203.75 273.194 Z\" fill=\"#000000\" fill-rule=\"evenodd\" fill-opacity=\"1\" /><polyline clip-path=\"url(#clip160)\" style=\"stroke:#c271d2; stroke-width:4; stroke-opacity:1; fill:none\" points=\"\n",
       "  1997.67,335.029 2136.2,335.029 \n",
       "  \"/>\n",
       "<path clip-path=\"url(#clip160)\" d=\"M 0 0 M2173.13 354.716 Q2171.32 359.346 2169.61 360.758 Q2167.9 362.17 2165.03 362.17 L2161.62 362.17 L2161.62 358.605 L2164.12 358.605 Q2165.88 358.605 2166.85 357.772 Q2167.83 356.938 2169.01 353.836 L2169.77 351.892 L2159.28 326.383 L2163.8 326.383 L2171.9 346.661 L2180 326.383 L2184.52 326.383 L2173.13 354.716 Z\" fill=\"#000000\" fill-rule=\"evenodd\" fill-opacity=\"1\" /><path clip-path=\"url(#clip160)\" d=\"M 0 0 M2202.43 321.823 L2190.63 340.272 L2202.43 340.272 L2202.43 321.823 M2201.21 317.749 L2207.08 317.749 L2207.08 340.272 L2212.02 340.272 L2212.02 344.161 L2207.08 344.161 L2207.08 352.309 L2202.43 352.309 L2202.43 344.161 L2186.83 344.161 L2186.83 339.647 L2201.21 317.749 Z\" fill=\"#000000\" fill-rule=\"evenodd\" fill-opacity=\"1\" /><polyline clip-path=\"url(#clip160)\" style=\"stroke:#ac8d18; stroke-width:4; stroke-opacity:1; fill:none\" points=\"\n",
       "  1997.67,395.509 2136.2,395.509 \n",
       "  \"/>\n",
       "<path clip-path=\"url(#clip160)\" d=\"M 0 0 M2173.13 415.196 Q2171.32 419.826 2169.61 421.238 Q2167.9 422.65 2165.03 422.65 L2161.62 422.65 L2161.62 419.085 L2164.12 419.085 Q2165.88 419.085 2166.85 418.252 Q2167.83 417.418 2169.01 414.316 L2169.77 412.372 L2159.28 386.863 L2163.8 386.863 L2171.9 407.141 L2180 386.863 L2184.52 386.863 L2173.13 415.196 Z\" fill=\"#000000\" fill-rule=\"evenodd\" fill-opacity=\"1\" /><path clip-path=\"url(#clip160)\" d=\"M 0 0 M2189.63 378.229 L2207.99 378.229 L2207.99 382.164 L2193.91 382.164 L2193.91 390.636 Q2194.93 390.289 2195.95 390.127 Q2196.97 389.942 2197.99 389.942 Q2203.77 389.942 2207.15 393.113 Q2210.53 396.284 2210.53 401.701 Q2210.53 407.279 2207.06 410.381 Q2203.59 413.46 2197.27 413.46 Q2195.09 413.46 2192.83 413.09 Q2190.58 412.719 2188.17 411.978 L2188.17 407.279 Q2190.26 408.414 2192.48 408.969 Q2194.7 409.525 2197.18 409.525 Q2201.18 409.525 2203.52 407.418 Q2205.86 405.312 2205.86 401.701 Q2205.86 398.09 2203.52 395.983 Q2201.18 393.877 2197.18 393.877 Q2195.3 393.877 2193.43 394.293 Q2191.58 394.71 2189.63 395.59 L2189.63 378.229 Z\" fill=\"#000000\" fill-rule=\"evenodd\" fill-opacity=\"1\" /><polyline clip-path=\"url(#clip160)\" style=\"stroke:#00a9ad; stroke-width:4; stroke-opacity:1; fill:none\" points=\"\n",
       "  1997.67,455.989 2136.2,455.989 \n",
       "  \"/>\n",
       "<path clip-path=\"url(#clip160)\" d=\"M 0 0 M2173.13 475.676 Q2171.32 480.306 2169.61 481.718 Q2167.9 483.13 2165.03 483.13 L2161.62 483.13 L2161.62 479.565 L2164.12 479.565 Q2165.88 479.565 2166.85 478.732 Q2167.83 477.898 2169.01 474.796 L2169.77 472.852 L2159.28 447.343 L2163.8 447.343 L2171.9 467.621 L2180 447.343 L2184.52 447.343 L2173.13 475.676 Z\" fill=\"#000000\" fill-rule=\"evenodd\" fill-opacity=\"1\" /><path clip-path=\"url(#clip160)\" d=\"M 0 0 M2200.16 454.125 Q2197.02 454.125 2195.16 456.278 Q2193.34 458.431 2193.34 462.181 Q2193.34 465.908 2195.16 468.083 Q2197.02 470.236 2200.16 470.236 Q2203.31 470.236 2205.14 468.083 Q2206.99 465.908 2206.99 462.181 Q2206.99 458.431 2205.14 456.278 Q2203.31 454.125 2200.16 454.125 M2209.45 439.473 L2209.45 443.732 Q2207.69 442.898 2205.88 442.459 Q2204.1 442.019 2202.34 442.019 Q2197.71 442.019 2195.26 445.144 Q2192.83 448.269 2192.48 454.588 Q2193.84 452.574 2195.9 451.509 Q2197.96 450.422 2200.44 450.422 Q2205.65 450.422 2208.66 453.593 Q2211.69 456.741 2211.69 462.181 Q2211.69 467.505 2208.54 470.722 Q2205.4 473.94 2200.16 473.94 Q2194.17 473.94 2191 469.357 Q2187.83 464.75 2187.83 456.023 Q2187.83 447.829 2191.71 442.968 Q2195.6 438.084 2202.15 438.084 Q2203.91 438.084 2205.7 438.431 Q2207.5 438.778 2209.45 439.473 Z\" fill=\"#000000\" fill-rule=\"evenodd\" fill-opacity=\"1\" /><polyline clip-path=\"url(#clip160)\" style=\"stroke:#ed5d92; stroke-width:4; stroke-opacity:1; fill:none\" points=\"\n",
       "  1997.67,516.469 2136.2,516.469 \n",
       "  \"/>\n",
       "<path clip-path=\"url(#clip160)\" d=\"M 0 0 M2173.13 536.156 Q2171.32 540.786 2169.61 542.198 Q2167.9 543.61 2165.03 543.61 L2161.62 543.61 L2161.62 540.045 L2164.12 540.045 Q2165.88 540.045 2166.85 539.212 Q2167.83 538.378 2169.01 535.276 L2169.77 533.332 L2159.28 507.823 L2163.8 507.823 L2171.9 528.101 L2180 507.823 L2184.52 507.823 L2173.13 536.156 Z\" fill=\"#000000\" fill-rule=\"evenodd\" fill-opacity=\"1\" /><path clip-path=\"url(#clip160)\" d=\"M 0 0 M2188.4 499.189 L2210.63 499.189 L2210.63 501.179 L2198.08 533.749 L2193.2 533.749 L2205 503.124 L2188.4 503.124 L2188.4 499.189 Z\" fill=\"#000000\" fill-rule=\"evenodd\" fill-opacity=\"1\" /><polyline clip-path=\"url(#clip160)\" style=\"stroke:#c68125; stroke-width:4; stroke-opacity:1; fill:none\" points=\"\n",
       "  1997.67,576.949 2136.2,576.949 \n",
       "  \"/>\n",
       "<path clip-path=\"url(#clip160)\" d=\"M 0 0 M2173.13 596.636 Q2171.32 601.266 2169.61 602.678 Q2167.9 604.09 2165.03 604.09 L2161.62 604.09 L2161.62 600.525 L2164.12 600.525 Q2165.88 600.525 2166.85 599.692 Q2167.83 598.858 2169.01 595.756 L2169.77 593.812 L2159.28 568.303 L2163.8 568.303 L2171.9 588.581 L2180 568.303 L2184.52 568.303 L2173.13 596.636 Z\" fill=\"#000000\" fill-rule=\"evenodd\" fill-opacity=\"1\" /><path clip-path=\"url(#clip160)\" d=\"M 0 0 M2199.59 577.817 Q2196.25 577.817 2194.33 579.599 Q2192.43 581.381 2192.43 584.506 Q2192.43 587.631 2194.33 589.414 Q2196.25 591.196 2199.59 591.196 Q2202.92 591.196 2204.84 589.414 Q2206.76 587.608 2206.76 584.506 Q2206.76 581.381 2204.84 579.599 Q2202.94 577.817 2199.59 577.817 M2194.91 575.826 Q2191.9 575.085 2190.21 573.025 Q2188.54 570.965 2188.54 568.002 Q2188.54 563.858 2191.48 561.451 Q2194.45 559.044 2199.59 559.044 Q2204.75 559.044 2207.69 561.451 Q2210.63 563.858 2210.63 568.002 Q2210.63 570.965 2208.94 573.025 Q2207.27 575.085 2204.28 575.826 Q2207.66 576.613 2209.54 578.905 Q2211.44 581.196 2211.44 584.506 Q2211.44 589.53 2208.36 592.215 Q2205.3 594.9 2199.59 594.9 Q2193.87 594.9 2190.79 592.215 Q2187.73 589.53 2187.73 584.506 Q2187.73 581.196 2189.63 578.905 Q2191.53 576.613 2194.91 575.826 M2193.2 568.442 Q2193.2 571.127 2194.86 572.632 Q2196.55 574.136 2199.59 574.136 Q2202.59 574.136 2204.28 572.632 Q2206 571.127 2206 568.442 Q2206 565.757 2204.28 564.252 Q2202.59 562.747 2199.59 562.747 Q2196.55 562.747 2194.86 564.252 Q2193.2 565.757 2193.2 568.442 Z\" fill=\"#000000\" fill-rule=\"evenodd\" fill-opacity=\"1\" /><polyline clip-path=\"url(#clip160)\" style=\"stroke:#00a98d; stroke-width:4; stroke-opacity:1; fill:none\" points=\"\n",
       "  1997.67,637.429 2136.2,637.429 \n",
       "  \"/>\n",
       "<path clip-path=\"url(#clip160)\" d=\"M 0 0 M2173.13 657.116 Q2171.32 661.746 2169.61 663.158 Q2167.9 664.57 2165.03 664.57 L2161.62 664.57 L2161.62 661.005 L2164.12 661.005 Q2165.88 661.005 2166.85 660.172 Q2167.83 659.338 2169.01 656.236 L2169.77 654.292 L2159.28 628.783 L2163.8 628.783 L2171.9 649.061 L2180 628.783 L2184.52 628.783 L2173.13 657.116 Z\" fill=\"#000000\" fill-rule=\"evenodd\" fill-opacity=\"1\" /><path clip-path=\"url(#clip160)\" d=\"M 0 0 M2189.72 653.991 L2189.72 649.732 Q2191.48 650.565 2193.29 651.005 Q2195.09 651.445 2196.83 651.445 Q2201.46 651.445 2203.89 648.343 Q2206.34 645.218 2206.69 638.875 Q2205.35 640.866 2203.29 641.931 Q2201.23 642.996 2198.73 642.996 Q2193.54 642.996 2190.51 639.871 Q2187.5 636.723 2187.5 631.283 Q2187.5 625.959 2190.65 622.741 Q2193.8 619.524 2199.03 619.524 Q2205.02 619.524 2208.17 624.13 Q2211.34 628.713 2211.34 637.463 Q2211.34 645.635 2207.46 650.519 Q2203.59 655.38 2197.04 655.38 Q2195.28 655.38 2193.47 655.033 Q2191.67 654.685 2189.72 653.991 M2199.03 639.338 Q2202.18 639.338 2204.01 637.186 Q2205.86 635.033 2205.86 631.283 Q2205.86 627.556 2204.01 625.403 Q2202.18 623.227 2199.03 623.227 Q2195.88 623.227 2194.03 625.403 Q2192.2 627.556 2192.2 631.283 Q2192.2 635.033 2194.03 637.186 Q2195.88 639.338 2199.03 639.338 Z\" fill=\"#000000\" fill-rule=\"evenodd\" fill-opacity=\"1\" /><polyline clip-path=\"url(#clip160)\" style=\"stroke:#8e971d; stroke-width:4; stroke-opacity:1; fill:none\" points=\"\n",
       "  1997.67,697.909 2136.2,697.909 \n",
       "  \"/>\n",
       "<path clip-path=\"url(#clip160)\" d=\"M 0 0 M2173.13 717.596 Q2171.32 722.226 2169.61 723.638 Q2167.9 725.05 2165.03 725.05 L2161.62 725.05 L2161.62 721.485 L2164.12 721.485 Q2165.88 721.485 2166.85 720.652 Q2167.83 719.818 2169.01 716.716 L2169.77 714.772 L2159.28 689.263 L2163.8 689.263 L2171.9 709.541 L2180 689.263 L2184.52 689.263 L2173.13 717.596 Z\" fill=\"#000000\" fill-rule=\"evenodd\" fill-opacity=\"1\" /><path clip-path=\"url(#clip160)\" d=\"M 0 0 M2190.4 711.253 L2198.03 711.253 L2198.03 684.888 L2189.72 686.555 L2189.72 682.295 L2197.99 680.629 L2202.66 680.629 L2202.66 711.253 L2210.3 711.253 L2210.3 715.189 L2190.4 715.189 L2190.4 711.253 Z\" fill=\"#000000\" fill-rule=\"evenodd\" fill-opacity=\"1\" /><path clip-path=\"url(#clip160)\" d=\"M 0 0 M2225.37 683.707 Q2221.76 683.707 2219.93 687.272 Q2218.13 690.814 2218.13 697.943 Q2218.13 705.05 2219.93 708.615 Q2221.76 712.156 2225.37 712.156 Q2229.01 712.156 2230.81 708.615 Q2232.64 705.05 2232.64 697.943 Q2232.64 690.814 2230.81 687.272 Q2229.01 683.707 2225.37 683.707 M2225.37 680.004 Q2231.18 680.004 2234.24 684.61 Q2237.32 689.193 2237.32 697.943 Q2237.32 706.67 2234.24 711.277 Q2231.18 715.86 2225.37 715.86 Q2219.56 715.86 2216.48 711.277 Q2213.43 706.67 2213.43 697.943 Q2213.43 689.193 2216.48 684.61 Q2219.56 680.004 2225.37 680.004 Z\" fill=\"#000000\" fill-rule=\"evenodd\" fill-opacity=\"1\" /></svg>\n"
      ]
     },
     "execution_count": 13,
     "metadata": {},
     "output_type": "execute_result"
    }
   ],
   "source": [
    "xs=range(1,stop=50,length=10)\n",
    "ys=[errorabs([3.0,5.0,4.0],10) for T in xs]\n",
    "plot(xs,ys, xlabel=\"x\", ylabel=\"y\",yscale=:log10)"
   ]
  },
  {
   "cell_type": "markdown",
   "metadata": {},
   "source": [
    "Podemos ver que el error tiene una tendencia exponencial negativa respecto al número de iteraciones."
   ]
  },
  {
   "cell_type": "markdown",
   "metadata": {},
   "source": [
    "# 3. Ejercicio 9. Clase 13\n",
    "Considera el sistema de dos carros de masas $m_1$ y $m_2$, acoplados entre si y a dos paredes por tres resortes Hookeanos (que siguen la ley de Hooke) con constantes $k_1$, $k_2$ y $k_3$. El siguiente diagrama representa al sistema:\n",
    "\n",
    "![](https://lh3.googleusercontent.com/ccW0mrbq_sFv5BDIb5_JaH1txCvM_PhkpdEAYXsbV5_G593r3U8wN7A9B-OWgMlyYL-FzaGlow2cVSMd1fIoUsx795ybNZ_pSHpuDCemVtEGq0KvNdVGZDfDVIeKRGwbKiSN_xB1ew=w1200)\n",
    "\n",
    "\n",
    "Utilizando las funciones `eigvals` y `eigvecs`, escribe una función `carrosAcoplados2(k1,k2,k3,m)` que tome como argumento números flotantes correspondientes a las constantes de resorte $k_1$, $k_2$, $k_3$ y la masa $m$ y te regrese las dos frecuencias $\\omega_1, \\omega_2$ y sus vectores de amplitudes correspondientes $\\mathbf{A}_1, \\mathbf{A}_2$.\n",
    "\n",
    "Revisa que para el caso $k_1=k_2=k_3=k$, se cumpla\n",
    "\n",
    "$$\n",
    "\\omega_1 = \\sqrt{\\frac{k}{m}} \\quad , \\quad \\mathbf{A}_1 = \\frac{1}{\\sqrt{2}} (1,1)\n",
    "$$\n",
    "\n",
    "$$\n",
    "\\omega_2 = \\sqrt{\\frac{3k}{m}} \\quad , \\quad \\mathbf{A}_2 = \\frac{1}{\\sqrt{2}} (1,-1)\n",
    "$$\n",
    "\n",
    "**Sugerencia**: para comprobar que se cumplen esas relaciones, deberán darle valores arbitrarios a $k$ y $m$"
   ]
  },
  {
   "cell_type": "code",
   "execution_count": 4,
   "metadata": {},
   "outputs": [
    {
     "data": {
      "text/plain": [
       "carrosAcoplados (generic function with 1 method)"
      ]
     },
     "execution_count": 4,
     "metadata": {},
     "output_type": "execute_result"
    }
   ],
   "source": [
    "function carrosAcoplados(k1,k2,k3,m)\n",
    "    k=[k1+k2 -k2 ; -k2 k2+k3]\n",
    "    valpropios=eigvals(k)\n",
    "    vecpropios=eigvecs(k)\n",
    "    w1=(valpropios[1]/m)^(1/2)\n",
    "    w2=(valpropios[2]/m)^(1/2)\n",
    "    println(vecpropios*(-1))\n",
    "    return w1,w2\n",
    "end"
   ]
  },
  {
   "cell_type": "code",
   "execution_count": 5,
   "metadata": {},
   "outputs": [
    {
     "name": "stdout",
     "output_type": "stream",
     "text": [
      "[0.7071067811865475 0.7071067811865475; 0.7071067811865475 -0.7071067811865475]\n"
     ]
    },
    {
     "data": {
      "text/plain": [
       "(0.6324555320336759, 1.0954451150103321)"
      ]
     },
     "execution_count": 5,
     "metadata": {},
     "output_type": "execute_result"
    }
   ],
   "source": [
    "carrosAcoplados(2.0,2.0,2.0,5)"
   ]
  },
  {
   "cell_type": "markdown",
   "metadata": {},
   "source": [
    "# 4.\n",
    "Encuentra los valores y vectores propios y diagonaliza las siguientes matrices\n",
    "\n",
    "$$\n",
    "\\mathbf{A}_1 = \\begin{pmatrix}\n",
    "8 & 11 & 4 & 3 \\\\\n",
    "11 & 12 & 4 & 7 \\\\\n",
    "4 & 4 & 7 & 12 \\\\\n",
    "3 & 7 & 12 & 17 \\\\\n",
    "\\end{pmatrix}\n",
    "$$\n",
    "\n",
    "$$\n",
    "\\mathbf{A}_2 = \\begin{pmatrix}\n",
    "2 & -1 & -1 & 0 \\\\\n",
    "-1 & 3 & -1 & -1 \\\\\n",
    "-1 & -1 & 3 & -1 \\\\\n",
    "0 & -1 & -1 & 2 \\\\\n",
    "\\end{pmatrix}\n",
    "$$"
   ]
  },
  {
   "cell_type": "code",
   "execution_count": 49,
   "metadata": {},
   "outputs": [
    {
     "data": {
      "text/plain": [
       "BaseCanonica (generic function with 1 method)"
      ]
     },
     "execution_count": 49,
     "metadata": {},
     "output_type": "execute_result"
    }
   ],
   "source": [
    "function BaseCanonica(i,n) \n",
    "    arr=[]\n",
    "    for j in 1:n\n",
    "        if j==i\n",
    "            push!(arr,1)\n",
    "        else\n",
    "            push!(arr,0)\n",
    "        end\n",
    "    end\n",
    "    return arr\n",
    "end "
   ]
  },
  {
   "cell_type": "code",
   "execution_count": 51,
   "metadata": {},
   "outputs": [
    {
     "data": {
      "text/plain": [
       "Inversa (generic function with 1 method)"
      ]
     },
     "execution_count": 51,
     "metadata": {},
     "output_type": "execute_result"
    }
   ],
   "source": [
    "function Inversa(A)\n",
    "    n=length(A[:,1])\n",
    "    B=ecLineales(A,BaseCanonica(1,n))\n",
    "    for i in 2:n\n",
    "        B=[B ecLineales(A,BaseCanonica(i,n))]\n",
    "    end\n",
    "    return B\n",
    "end"
   ]
  },
  {
   "cell_type": "code",
   "execution_count": 52,
   "metadata": {},
   "outputs": [
    {
     "data": {
      "text/plain": [
       "Diagonalizar (generic function with 1 method)"
      ]
     },
     "execution_count": 52,
     "metadata": {},
     "output_type": "execute_result"
    }
   ],
   "source": [
    "function Diagonalizar(A) \n",
    "    P=eigvecs(A)  \n",
    "    D=(Inversa(P)*A)*P\n",
    "    display(P) \n",
    "    display(D)\n",
    "end"
   ]
  },
  {
   "cell_type": "code",
   "execution_count": 53,
   "metadata": {},
   "outputs": [
    {
     "data": {
      "text/plain": [
       "4×4 Array{Float64,2}:\n",
       "  0.565466   0.486182  -0.549555  -0.37665\n",
       " -0.468105  -0.470423  -0.551281  -0.505638\n",
       " -0.542105   0.644365   0.31321   -0.439107\n",
       "  0.40896   -0.356544   0.544038  -0.64004"
      ]
     },
     "metadata": {},
     "output_type": "display_data"
    },
    {
     "data": {
      "text/plain": [
       "4×4 Array{Float64,2}:\n",
       " -2.77111       6.66134e-16   3.21965e-15   5.36238e-14\n",
       " -2.13718e-15   0.457924     -9.42302e-15  -6.2797e-14\n",
       "  8.88178e-15  -7.54952e-15  13.7849        2.93099e-14\n",
       "  1.77636e-15  -6.21725e-15   2.66454e-14  32.5282"
      ]
     },
     "metadata": {},
     "output_type": "display_data"
    }
   ],
   "source": [
    "#A1\n",
    "Diagonalizar([[8 11 4 3];[11 12 4 7];[4 4 7 12];[3 7 12 17]]) #La primera es P, la segunda es D"
   ]
  },
  {
   "cell_type": "code",
   "execution_count": 54,
   "metadata": {},
   "outputs": [
    {
     "data": {
      "text/plain": [
       "4-element Array{Float64,1}:\n",
       " -2.7711067095643167\n",
       "  0.4579242114812731\n",
       " 13.784936206564407\n",
       " 32.52824629151864"
      ]
     },
     "metadata": {},
     "output_type": "display_data"
    }
   ],
   "source": [
    "display(eigvals([[8 11 4 3];[11 12 4 7];[4 4 7 12];[3 7 12 17]]))"
   ]
  },
  {
   "cell_type": "code",
   "execution_count": 55,
   "metadata": {},
   "outputs": [
    {
     "data": {
      "text/plain": [
       "4×4 Array{Float64,2}:\n",
       " -0.5   0.707107      0.5   2.22045e-16\n",
       " -0.5  -9.42055e-16  -0.5   0.707107\n",
       " -0.5  -7.85046e-16  -0.5  -0.707107\n",
       " -0.5  -0.707107      0.5   0.0"
      ]
     },
     "metadata": {},
     "output_type": "display_data"
    },
    {
     "data": {
      "text/plain": [
       "4×4 Array{Float64,2}:\n",
       "  5.55112e-17  -3.29719e-15   7.21645e-16   7.85046e-17\n",
       " -2.44249e-15   2.0           0.0          -3.14018e-16\n",
       "  7.77156e-16   2.22045e-16   4.0          -8.88178e-16\n",
       " -1.34016e-16  -4.76607e-16  -8.80288e-17   4.0"
      ]
     },
     "metadata": {},
     "output_type": "display_data"
    }
   ],
   "source": [
    "#A2\n",
    "Diagonalizar([[2 -1 -1 0];[-1 3 -1 -1];[-1 -1 3 -1];[0 -1 -1 2]])"
   ]
  },
  {
   "cell_type": "code",
   "execution_count": 56,
   "metadata": {},
   "outputs": [
    {
     "data": {
      "text/plain": [
       "4-element Array{Float64,1}:\n",
       " 1.9081958235744878e-17\n",
       " 2.0\n",
       " 3.999999999999999\n",
       " 4.0"
      ]
     },
     "metadata": {},
     "output_type": "display_data"
    }
   ],
   "source": [
    "display(eigvals([[2 -1 -1 0];[-1 3 -1 -1];[-1 -1 3 -1];[0 -1 -1 2]]))"
   ]
  },
  {
   "cell_type": "markdown",
   "metadata": {},
   "source": [
    "haciendolo de forma chafa"
   ]
  },
  {
   "cell_type": "code",
   "execution_count": 57,
   "metadata": {},
   "outputs": [
    {
     "data": {
      "text/plain": [
       "diagonaliza (generic function with 1 method)"
      ]
     },
     "execution_count": 57,
     "metadata": {},
     "output_type": "execute_result"
    }
   ],
   "source": [
    "function diagonaliza(A)\n",
    "    P=eigvecs(A)\n",
    "    D=(P^(-1))*A*P\n",
    "    display(P)\n",
    "    display(D)\n",
    "end"
   ]
  },
  {
   "cell_type": "code",
   "execution_count": 58,
   "metadata": {},
   "outputs": [
    {
     "data": {
      "text/plain": [
       "4×4 Array{Float64,2}:\n",
       "  0.565466   0.486182  -0.549555  -0.37665\n",
       " -0.468105  -0.470423  -0.551281  -0.505638\n",
       " -0.542105   0.644365   0.31321   -0.439107\n",
       "  0.40896   -0.356544   0.544038  -0.64004"
      ]
     },
     "metadata": {},
     "output_type": "display_data"
    },
    {
     "data": {
      "text/plain": [
       "4×4 Array{Float64,2}:\n",
       " -2.77111       1.55431e-15   1.07692e-14   8.43769e-15\n",
       "  8.88178e-16   0.457924     -9.42302e-15  -9.61731e-15\n",
       "  4.88498e-15  -6.21725e-15  13.7849        1.95399e-14\n",
       "  5.32907e-15  -9.76996e-15   1.24345e-14  32.5282"
      ]
     },
     "metadata": {},
     "output_type": "display_data"
    }
   ],
   "source": [
    "#A1\n",
    "diagonaliza([8 11 4 3;11 12 4 7;4 4 7 12;3 7 12 17])"
   ]
  },
  {
   "cell_type": "code",
   "execution_count": 59,
   "metadata": {},
   "outputs": [
    {
     "data": {
      "text/plain": [
       "4×4 Array{Float64,2}:\n",
       " -0.5   0.707107      0.5   2.22045e-16\n",
       " -0.5  -9.42055e-16  -0.5   0.707107\n",
       " -0.5  -7.85046e-16  -0.5  -0.707107\n",
       " -0.5  -0.707107      0.5   0.0"
      ]
     },
     "metadata": {},
     "output_type": "display_data"
    },
    {
     "data": {
      "text/plain": [
       "4×4 Array{Float64,2}:\n",
       "  3.9443e-30   -2.90467e-15   1.66533e-15   2.35514e-16\n",
       " -2.44249e-15   2.0          -3.33067e-16  -3.14018e-16\n",
       "  7.77156e-16   2.22045e-16   4.0           0.0\n",
       "  0.0          -2.08575e-16  -2.22045e-16   4.0"
      ]
     },
     "metadata": {},
     "output_type": "display_data"
    }
   ],
   "source": [
    "#A2\n",
    "diagonaliza([2 -1 -1 0;-1 3 -1 -1;-1 -1 3 -1;0 -1 -1 2])"
   ]
  },
  {
   "cell_type": "markdown",
   "metadata": {},
   "source": [
    "en ambos casos los resultados obtenidos coinciden"
   ]
  },
  {
   "cell_type": "code",
   "execution_count": null,
   "metadata": {},
   "outputs": [],
   "source": []
  }
 ],
 "metadata": {
  "kernelspec": {
   "display_name": "Julia 1.4.2",
   "language": "julia",
   "name": "julia-1.4"
  },
  "language_info": {
   "file_extension": ".jl",
   "mimetype": "application/julia",
   "name": "julia",
   "version": "1.4.2"
  }
 },
 "nbformat": 4,
 "nbformat_minor": 4
}
